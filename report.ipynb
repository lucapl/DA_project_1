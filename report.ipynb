{
 "cells": [
  {
   "cell_type": "code",
   "execution_count": null,
   "metadata": {},
   "outputs": [],
   "source": [
    "%matplotlib inline\n",
    "import pandas as pd\n",
    "import numpy as np\n",
    "\n",
    "import matplotlib.pyplot as plt"
   ]
  },
  {
   "cell_type": "markdown",
   "metadata": {},
   "source": [
    "# Phone Ranking Problem\n",
    "\n",
    "Choosing a new phone is often quite a daunting task, with many different models from different companies and varying prices."
   ]
  },
  {
   "cell_type": "code",
   "execution_count": null,
   "metadata": {},
   "outputs": [],
   "source": [
    "data = pd.read_csv(\"./data/dataset.csv\")\n",
    "prefs = pd.read_csv(\"./data/preferences.csv\")"
   ]
  },
  {
   "cell_type": "code",
   "execution_count": null,
   "metadata": {},
   "outputs": [],
   "source": [
    "data"
   ]
  },
  {
   "cell_type": "code",
   "execution_count": null,
   "metadata": {},
   "outputs": [],
   "source": [
    "crit_types = [True if crit.split(\"-\")[1]==\"gain\" else False for crit in data.drop(columns=\"name\").columns ]\n",
    "crit_types"
   ]
  },
  {
   "cell_type": "markdown",
   "metadata": {},
   "source": [
    "\n",
    "1. What is the domain of the problem about?\n",
    "\t\n",
    "\tThe problem involves constinst of various phones and some of their parameters. \n",
    "\tPrice is given in złoty's, Ram in GB, Screen in inches, disk in GB, Oled and Foldable are binary variables and its beneficial for the phone to have them.\n",
    "\tOS ranks the operating systems with 0 being iOS, 1 being other, 2 being HarmonyOS and 3 being Android."
   ]
  },
  {
   "cell_type": "markdown",
   "metadata": {},
   "source": [
    "2. What is the source of the data?\n",
    "\n",
    "\tThe data is taken from the internet from various online shops that offer these phones."
   ]
  },
  {
   "cell_type": "code",
   "execution_count": null,
   "metadata": {},
   "outputs": [],
   "source": [
    "def type_1(d):\n",
    "\treturn 1 if d > 0 else 0\n",
    "\n",
    "def type_5(d,q:float,p:float):\n",
    "\tif d > p:\n",
    "\t\treturn 1\n",
    "\telif d < q:\n",
    "\t\treturn 0\n",
    "\telse: \n",
    "\t\treturn (d-q)/(p-q)"
   ]
  },
  {
   "cell_type": "code",
   "execution_count": null,
   "metadata": {},
   "outputs": [],
   "source": [
    "def rank_string(ranking,names):\n",
    "\t_str = \"\"\n",
    "\tfor i,n in sorted(zip(ranking,names),key=lambda a:a[0]):\n",
    "\t\t_str += f\"{i}:\\t{n}\"\n",
    "\treturn _str\n",
    "\n",
    "def show_rank(ranking,names):\n",
    "\tprint(rank_string(ranking,names))"
   ]
  },
  {
   "cell_type": "code",
   "execution_count": null,
   "metadata": {},
   "outputs": [],
   "source": [
    "class Promethee:\n",
    "\tdef __init__(self,data,criterion_type,criterion_weights=None,discrimination_thresholds=None):\n",
    "\t\tself.data = data.drop(columns=\"name\")\n",
    "\t\tself.names = data[\"name\"]\n",
    "\t\tself.ranking = [i for i in range(len(self.names))]\n",
    "\t\tself.is_crit_gain = criterion_type\n",
    "\t\tself.criterion_weighs = criterion_weights\n",
    "\t\tself.criterion_funcs = self._init_crit_funcs(discrimination_thresholds)\n",
    "\n",
    "\tdef _init_crit_funcs(self,disc_thresh):\n",
    "\t\treturn [lambda a,b: type5(a-b,q,p) if self.is_crit_gain else type5(b-a,q,p) for q,p in disc_thresh]\n",
    "\t\t\n",
    "\n",
    "\tdef _cp_index(self,data:pd.DataFrame,criterion_weights:list[float]=None,criterion_func:list[callable]=None)->np.array:\n",
    "\n",
    "\t\tn = len(data)\n",
    "\t\tmatrix = np.zeros((n,n))\n",
    "\n",
    "\t\tif criterion_weights==None:\n",
    "\t\t\tcriterion_weights = [1 for _ in data.columns]\n",
    "\n",
    "\t\tif criterion_func == None:\n",
    "\t\t\tcriterion_func = [type_1 for _ in criterion_weights]\n",
    "\n",
    "\t\tfor c,criterion in enumerate(data.columns):\n",
    "\t\t\tfor i,a in enumerate(data[criterion]):\n",
    "\t\t\t\tfor j,b in enumerate(data[criterion][i+1:],i+1):\n",
    "\t\t\t\t\tpi = criterion_func[c]\n",
    "\t\t\t\t\tw = criterion_weights[c]\n",
    "\t\t\t\t\tmatrix[i][j] += w * pi(a,b)\n",
    "\t\t\t\t\tmatrix[j][i] += w * pi(b,a)\n",
    "\t\t\n",
    "\t\treturn matrix/sum(criterion_weights)\n",
    "\t\n",
    "\tdef _flow(cpi:np.array):\n",
    "\t\tpositive_flow = np.sum(np.triu(cpi),axis=1)\n",
    "\t\tnegative_flow = np.sum(np.triu(cpi.T),axis=1)\n",
    "\n",
    "\t\treturn positive_flow,negative_flow\n",
    "\t\n",
    "\tdef __str__(self):\n",
    "\t\treturn rank_string(self.ranking,self.names)"
   ]
  },
  {
   "cell_type": "code",
   "execution_count": null,
   "metadata": {},
   "outputs": [],
   "source": [
    "class Promethee1(Promethee):\n",
    "\tdef rank(self):\n",
    "\t\tcpi = self._cp_index(data)\n",
    "\t\tpos_flow,neg_flow = self._flow(cpi)\n",
    "\n",
    "\t\tself.pos_rank = np.argsort(-pos_flow)\n",
    "\t\tself.neg_rank = np.argsort(neg_flow)\n",
    "\n",
    "\t\t\n",
    "\n",
    "\t\treturn self.ranking"
   ]
  },
  {
   "cell_type": "code",
   "execution_count": null,
   "metadata": {},
   "outputs": [],
   "source": [
    "class Promethee2(Promethee):\n",
    "\tdef rank(self):\n",
    "\t\tcpi = self._cp_index(data)\n",
    "\t\tpos_flow,neg_flow = self._flow(cpi)\n",
    "\n",
    "\t\tf = pos_flow-neg_flow\n",
    "\n",
    "\t\tself.ranking = np.argsort(-f)\n",
    "\n",
    "\t\treturn self.ranking"
   ]
  },
  {
   "cell_type": "code",
   "execution_count": null,
   "metadata": {},
   "outputs": [],
   "source": [
    "estimated_weights = [7,5,3,4,4,8,5]"
   ]
  },
  {
   "cell_type": "code",
   "execution_count": null,
   "metadata": {},
   "outputs": [],
   "source": [
    "cpi = cp_index(data.drop(columns=\"name\"))\n",
    "plt.imshow(cpi, interpolation='nearest')\n",
    "plt.show()"
   ]
  },
  {
   "cell_type": "code",
   "execution_count": null,
   "metadata": {},
   "outputs": [],
   "source": [
    "def "
   ]
  },
  {
   "cell_type": "code",
   "execution_count": null,
   "metadata": {},
   "outputs": [],
   "source": [
    "flow(cpi)"
   ]
  },
  {
   "cell_type": "code",
   "execution_count": null,
   "metadata": {},
   "outputs": [],
   "source": []
  },
  {
   "cell_type": "code",
   "execution_count": null,
   "metadata": {},
   "outputs": [],
   "source": [
    "show_rank(prom2_rank,data[\"name\"])"
   ]
  },
  {
   "cell_type": "code",
   "execution_count": null,
   "metadata": {},
   "outputs": [],
   "source": [
    "show_rank(prom1_pos,data[\"name\"])"
   ]
  },
  {
   "cell_type": "code",
   "execution_count": null,
   "metadata": {},
   "outputs": [],
   "source": [
    "show_rank(prom1_neg,data[\"name\"])"
   ]
  },
  {
   "cell_type": "code",
   "execution_count": null,
   "metadata": {},
   "outputs": [],
   "source": [
    "class ElectreTriB:\n",
    "\tdef __init__(self,data:pd.DataFrame,criterion_type:list[bool],class_profiles:np.array, pref_indif_veto:np.array):\n",
    "\t\t\"\"\"\n",
    "\t\t\tclass_profiles should be (criterion x profiles)\n",
    "\n",
    "\t\t\tpref_indif_veto should be(criterion x profiles x 3)\n",
    "\t\t\"\"\"\n",
    "\t\tself.data = data.drop(columns=\"name\")\n",
    "\t\tself.names = data[\"name\"]\n",
    "\t\tself.is_crit_gain = criterion_type\n",
    "\t\tself.class_profiles = class_profiles\n",
    "\t\tself.pref_indif_veto = pref_indif_veto\n",
    "\n",
    "\t\tself.b = len(self.class_profiles)\n",
    "\t\tself.g = len(self.data.columns)\n",
    "\t\tself.a = len(self.data)\n",
    "\n",
    "\tdef _marginal_concordance(self):\n",
    "\t\tself.mconc = np.zeros((len(self.data),len(self.class_profiles)))\n",
    "\t\tfor g_i,g in enumerate(self.data.columns):\n",
    "\t\t\tfor a_i in range(self.a):\n",
    "\t\t\t\tfor b_j in range(self.b):\n",
    "\t\t\t\t\td = self.data[g][a_i] - self.class_profiles[g_i][b_j]\n",
    "\t\t\t\t\tif self.is_crit_gain[g_i]:\n",
    "\t\t\t\t\t\td *= -1\n",
    "\t\t\t\t\tq,p = self.pref_indif_veto[g_i][b_j][0],self.pref_indif_veto[g_i][b_j][1]\n",
    "\t\t\t\t\tself.mconc = type_5(d,q,p)\n",
    "\n",
    "\tdef _marginal_discordance(self):\n",
    "\t\tself.mdisc = np.zeros((len(self.data.columns),len(self.data),len(self.class_profiles)))\n",
    "\t\tfor g_i,g in enumerate(self.data.columns):\n",
    "\t\t\tfor a_i in range(self.a):\n",
    "\t\t\t\tfor b_j in range(self.b):\n",
    "\t\t\t\t\td = self.data[g][a_i] - self.class_profiles[g_i][b_j]\n",
    "\t\t\t\t\tif self.is_crit_gain[g_i]:\n",
    "\t\t\t\t\t\td *= -1\n",
    "\t\t\t\t\tv,p = self.pref_indif_veto[g_i][b_j][2],self.pref_indif_veto[g_i][b_j][1]\n",
    "\t\t\t\t\tself.mdisc = type_5(d,v,p)"
   ]
  }
 ],
 "metadata": {
  "kernelspec": {
   "display_name": "Python 3.9.6 64-bit",
   "language": "python",
   "name": "python3"
  },
  "language_info": {
   "codemirror_mode": {
    "name": "ipython",
    "version": 3
   },
   "file_extension": ".py",
   "mimetype": "text/x-python",
   "name": "python",
   "nbconvert_exporter": "python",
   "pygments_lexer": "ipython3",
   "version": "3.9.6"
  },
  "orig_nbformat": 4,
  "vscode": {
   "interpreter": {
    "hash": "2adcef65025017a28c8a8e125c00b146f28fabedf291ca46c1a4a0bfed978fa1"
   }
  }
 },
 "nbformat": 4,
 "nbformat_minor": 2
}
