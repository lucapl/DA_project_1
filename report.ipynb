{
 "cells": [
  {
   "cell_type": "code",
   "execution_count": 1,
   "metadata": {},
   "outputs": [
    {
     "name": "stderr",
     "output_type": "stream",
     "text": [
      "C:\\Users\\Łukasz\\AppData\\Roaming\\Python\\Python39\\site-packages\\matplotlib\\projections\\__init__.py:63: UserWarning: Unable to import Axes3D. This may be due to multiple versions of Matplotlib being installed (e.g. as a system package and as a pip package). As a result, the 3D projection is not available.\n",
      "  warnings.warn(\"Unable to import Axes3D. This may be due to multiple versions of \"\n"
     ]
    }
   ],
   "source": [
    "%matplotlib inline\n",
    "import matplotlib.pyplot as plt\n",
    "\n",
    "import pandas as pd\n",
    "import numpy as np\n",
    "\n",
    "import networkx as nx\n",
    "from queue import Queue\n",
    "\n",
    "from typing import Optional, List,Tuple,Dict"
   ]
  },
  {
   "cell_type": "markdown",
   "metadata": {},
   "source": [
    "# Phone Ranking Problem\n",
    "\n",
    "Łukasz Andryszewski 151930\n",
    "\n",
    "Choosing a new phone is often quite a daunting task, with many different models from different companies and varying prices."
   ]
  },
  {
   "cell_type": "code",
   "execution_count": 2,
   "metadata": {},
   "outputs": [],
   "source": [
    "data = pd.read_csv(\"./data/dataset.csv\")\n",
    "prefs = pd.read_csv(\"./data/preferences.csv\")"
   ]
  },
  {
   "cell_type": "code",
   "execution_count": 3,
   "metadata": {},
   "outputs": [
    {
     "data": {
      "text/html": [
       "<div>\n",
       "<style scoped>\n",
       "    .dataframe tbody tr th:only-of-type {\n",
       "        vertical-align: middle;\n",
       "    }\n",
       "\n",
       "    .dataframe tbody tr th {\n",
       "        vertical-align: top;\n",
       "    }\n",
       "\n",
       "    .dataframe thead th {\n",
       "        text-align: right;\n",
       "    }\n",
       "</style>\n",
       "<table border=\"1\" class=\"dataframe\">\n",
       "  <thead>\n",
       "    <tr style=\"text-align: right;\">\n",
       "      <th></th>\n",
       "      <th>name</th>\n",
       "      <th>price-cost</th>\n",
       "      <th>ram-gain</th>\n",
       "      <th>screen-gain</th>\n",
       "      <th>disk-gain</th>\n",
       "      <th>oled-gain</th>\n",
       "      <th>os-gain</th>\n",
       "      <th>foldable-gain</th>\n",
       "    </tr>\n",
       "  </thead>\n",
       "  <tbody>\n",
       "    <tr>\n",
       "      <th>0</th>\n",
       "      <td>Huawei P30</td>\n",
       "      <td>1699</td>\n",
       "      <td>6.000</td>\n",
       "      <td>6.10</td>\n",
       "      <td>128</td>\n",
       "      <td>1</td>\n",
       "      <td>3</td>\n",
       "      <td>0</td>\n",
       "    </tr>\n",
       "    <tr>\n",
       "      <th>1</th>\n",
       "      <td>Huawei P20 Lite</td>\n",
       "      <td>899</td>\n",
       "      <td>4.000</td>\n",
       "      <td>5.80</td>\n",
       "      <td>64</td>\n",
       "      <td>0</td>\n",
       "      <td>3</td>\n",
       "      <td>0</td>\n",
       "    </tr>\n",
       "    <tr>\n",
       "      <th>2</th>\n",
       "      <td>Iphone 15</td>\n",
       "      <td>4699</td>\n",
       "      <td>6.000</td>\n",
       "      <td>6.70</td>\n",
       "      <td>128</td>\n",
       "      <td>1</td>\n",
       "      <td>0</td>\n",
       "      <td>0</td>\n",
       "    </tr>\n",
       "    <tr>\n",
       "      <th>3</th>\n",
       "      <td>Iphone 12</td>\n",
       "      <td>2499</td>\n",
       "      <td>4.000</td>\n",
       "      <td>6.10</td>\n",
       "      <td>64</td>\n",
       "      <td>1</td>\n",
       "      <td>0</td>\n",
       "      <td>0</td>\n",
       "    </tr>\n",
       "    <tr>\n",
       "      <th>4</th>\n",
       "      <td>Motorola Razr Ultra</td>\n",
       "      <td>3999</td>\n",
       "      <td>8.000</td>\n",
       "      <td>6.90</td>\n",
       "      <td>256</td>\n",
       "      <td>1</td>\n",
       "      <td>3</td>\n",
       "      <td>1</td>\n",
       "    </tr>\n",
       "    <tr>\n",
       "      <th>5</th>\n",
       "      <td>Motorola Razr 40</td>\n",
       "      <td>2999</td>\n",
       "      <td>8.000</td>\n",
       "      <td>6.90</td>\n",
       "      <td>256</td>\n",
       "      <td>1</td>\n",
       "      <td>3</td>\n",
       "      <td>1</td>\n",
       "    </tr>\n",
       "    <tr>\n",
       "      <th>6</th>\n",
       "      <td>Samsung Galaxy Z Flip 5</td>\n",
       "      <td>5599</td>\n",
       "      <td>8.000</td>\n",
       "      <td>6.70</td>\n",
       "      <td>256</td>\n",
       "      <td>1</td>\n",
       "      <td>3</td>\n",
       "      <td>1</td>\n",
       "    </tr>\n",
       "    <tr>\n",
       "      <th>7</th>\n",
       "      <td>Motorola Razr 8</td>\n",
       "      <td>2657</td>\n",
       "      <td>8.000</td>\n",
       "      <td>6.67</td>\n",
       "      <td>256</td>\n",
       "      <td>1</td>\n",
       "      <td>3</td>\n",
       "      <td>1</td>\n",
       "    </tr>\n",
       "    <tr>\n",
       "      <th>8</th>\n",
       "      <td>Nokia 2660 Flip</td>\n",
       "      <td>299</td>\n",
       "      <td>4.000</td>\n",
       "      <td>2.80</td>\n",
       "      <td>128</td>\n",
       "      <td>1</td>\n",
       "      <td>1</td>\n",
       "      <td>1</td>\n",
       "    </tr>\n",
       "    <tr>\n",
       "      <th>9</th>\n",
       "      <td>Huawei P40</td>\n",
       "      <td>1949</td>\n",
       "      <td>8.000</td>\n",
       "      <td>6.10</td>\n",
       "      <td>128</td>\n",
       "      <td>1</td>\n",
       "      <td>2</td>\n",
       "      <td>0</td>\n",
       "    </tr>\n",
       "    <tr>\n",
       "      <th>10</th>\n",
       "      <td>Samsung Galaxy A55</td>\n",
       "      <td>2099</td>\n",
       "      <td>8.000</td>\n",
       "      <td>6.60</td>\n",
       "      <td>128</td>\n",
       "      <td>1</td>\n",
       "      <td>3</td>\n",
       "      <td>0</td>\n",
       "    </tr>\n",
       "    <tr>\n",
       "      <th>11</th>\n",
       "      <td>Nokia 3310</td>\n",
       "      <td>100</td>\n",
       "      <td>0.004</td>\n",
       "      <td>1.70</td>\n",
       "      <td>16</td>\n",
       "      <td>0</td>\n",
       "      <td>1</td>\n",
       "      <td>0</td>\n",
       "    </tr>\n",
       "    <tr>\n",
       "      <th>12</th>\n",
       "      <td>Samsung Galaxy M34</td>\n",
       "      <td>999</td>\n",
       "      <td>6.000</td>\n",
       "      <td>6.50</td>\n",
       "      <td>128</td>\n",
       "      <td>1</td>\n",
       "      <td>3</td>\n",
       "      <td>0</td>\n",
       "    </tr>\n",
       "    <tr>\n",
       "      <th>13</th>\n",
       "      <td>Xiaomi Poco X6 Pro</td>\n",
       "      <td>1699</td>\n",
       "      <td>12.000</td>\n",
       "      <td>6.67</td>\n",
       "      <td>512</td>\n",
       "      <td>1</td>\n",
       "      <td>3</td>\n",
       "      <td>0</td>\n",
       "    </tr>\n",
       "    <tr>\n",
       "      <th>14</th>\n",
       "      <td>Lg V60</td>\n",
       "      <td>1499</td>\n",
       "      <td>6.000</td>\n",
       "      <td>6.80</td>\n",
       "      <td>128</td>\n",
       "      <td>1</td>\n",
       "      <td>3</td>\n",
       "      <td>0</td>\n",
       "    </tr>\n",
       "  </tbody>\n",
       "</table>\n",
       "</div>"
      ],
      "text/plain": [
       "                       name  price-cost  ram-gain  screen-gain  disk-gain  \\\n",
       "0                Huawei P30        1699     6.000         6.10        128   \n",
       "1           Huawei P20 Lite         899     4.000         5.80         64   \n",
       "2                 Iphone 15        4699     6.000         6.70        128   \n",
       "3                 Iphone 12        2499     4.000         6.10         64   \n",
       "4       Motorola Razr Ultra        3999     8.000         6.90        256   \n",
       "5          Motorola Razr 40        2999     8.000         6.90        256   \n",
       "6   Samsung Galaxy Z Flip 5        5599     8.000         6.70        256   \n",
       "7           Motorola Razr 8        2657     8.000         6.67        256   \n",
       "8           Nokia 2660 Flip         299     4.000         2.80        128   \n",
       "9                Huawei P40        1949     8.000         6.10        128   \n",
       "10       Samsung Galaxy A55        2099     8.000         6.60        128   \n",
       "11               Nokia 3310         100     0.004         1.70         16   \n",
       "12       Samsung Galaxy M34         999     6.000         6.50        128   \n",
       "13       Xiaomi Poco X6 Pro        1699    12.000         6.67        512   \n",
       "14                   Lg V60        1499     6.000         6.80        128   \n",
       "\n",
       "    oled-gain  os-gain  foldable-gain  \n",
       "0           1        3              0  \n",
       "1           0        3              0  \n",
       "2           1        0              0  \n",
       "3           1        0              0  \n",
       "4           1        3              1  \n",
       "5           1        3              1  \n",
       "6           1        3              1  \n",
       "7           1        3              1  \n",
       "8           1        1              1  \n",
       "9           1        2              0  \n",
       "10          1        3              0  \n",
       "11          0        1              0  \n",
       "12          1        3              0  \n",
       "13          1        3              0  \n",
       "14          1        3              0  "
      ]
     },
     "execution_count": 3,
     "metadata": {},
     "output_type": "execute_result"
    }
   ],
   "source": [
    "data"
   ]
  },
  {
   "cell_type": "code",
   "execution_count": 4,
   "metadata": {},
   "outputs": [
    {
     "data": {
      "text/plain": [
       "[False, True, True, True, True, True, True]"
      ]
     },
     "execution_count": 4,
     "metadata": {},
     "output_type": "execute_result"
    }
   ],
   "source": [
    "crit_types = [True if crit.split(\"-\")[1]==\"gain\" else False for crit in data.drop(columns=\"name\").columns ]\n",
    "crit_types"
   ]
  },
  {
   "cell_type": "code",
   "execution_count": 5,
   "metadata": {},
   "outputs": [
    {
     "data": {
      "text/html": [
       "<div>\n",
       "<style scoped>\n",
       "    .dataframe tbody tr th:only-of-type {\n",
       "        vertical-align: middle;\n",
       "    }\n",
       "\n",
       "    .dataframe tbody tr th {\n",
       "        vertical-align: top;\n",
       "    }\n",
       "\n",
       "    .dataframe thead th {\n",
       "        text-align: right;\n",
       "    }\n",
       "</style>\n",
       "<table border=\"1\" class=\"dataframe\">\n",
       "  <thead>\n",
       "    <tr style=\"text-align: right;\">\n",
       "      <th></th>\n",
       "      <th>name</th>\n",
       "      <th>price</th>\n",
       "      <th>ram</th>\n",
       "      <th>screen</th>\n",
       "      <th>disk</th>\n",
       "      <th>oled</th>\n",
       "      <th>os</th>\n",
       "      <th>foldable</th>\n",
       "    </tr>\n",
       "  </thead>\n",
       "  <tbody>\n",
       "    <tr>\n",
       "      <th>0</th>\n",
       "      <td>Huawei P30</td>\n",
       "      <td>1699</td>\n",
       "      <td>6.000</td>\n",
       "      <td>6.10</td>\n",
       "      <td>128</td>\n",
       "      <td>1</td>\n",
       "      <td>3</td>\n",
       "      <td>0</td>\n",
       "    </tr>\n",
       "    <tr>\n",
       "      <th>1</th>\n",
       "      <td>Huawei P20 Lite</td>\n",
       "      <td>899</td>\n",
       "      <td>4.000</td>\n",
       "      <td>5.80</td>\n",
       "      <td>64</td>\n",
       "      <td>0</td>\n",
       "      <td>3</td>\n",
       "      <td>0</td>\n",
       "    </tr>\n",
       "    <tr>\n",
       "      <th>2</th>\n",
       "      <td>Iphone 15</td>\n",
       "      <td>4699</td>\n",
       "      <td>6.000</td>\n",
       "      <td>6.70</td>\n",
       "      <td>128</td>\n",
       "      <td>1</td>\n",
       "      <td>0</td>\n",
       "      <td>0</td>\n",
       "    </tr>\n",
       "    <tr>\n",
       "      <th>3</th>\n",
       "      <td>Iphone 12</td>\n",
       "      <td>2499</td>\n",
       "      <td>4.000</td>\n",
       "      <td>6.10</td>\n",
       "      <td>64</td>\n",
       "      <td>1</td>\n",
       "      <td>0</td>\n",
       "      <td>0</td>\n",
       "    </tr>\n",
       "    <tr>\n",
       "      <th>4</th>\n",
       "      <td>Motorola Razr Ultra</td>\n",
       "      <td>3999</td>\n",
       "      <td>8.000</td>\n",
       "      <td>6.90</td>\n",
       "      <td>256</td>\n",
       "      <td>1</td>\n",
       "      <td>3</td>\n",
       "      <td>1</td>\n",
       "    </tr>\n",
       "    <tr>\n",
       "      <th>5</th>\n",
       "      <td>Motorola Razr 40</td>\n",
       "      <td>2999</td>\n",
       "      <td>8.000</td>\n",
       "      <td>6.90</td>\n",
       "      <td>256</td>\n",
       "      <td>1</td>\n",
       "      <td>3</td>\n",
       "      <td>1</td>\n",
       "    </tr>\n",
       "    <tr>\n",
       "      <th>6</th>\n",
       "      <td>Samsung Galaxy Z Flip 5</td>\n",
       "      <td>5599</td>\n",
       "      <td>8.000</td>\n",
       "      <td>6.70</td>\n",
       "      <td>256</td>\n",
       "      <td>1</td>\n",
       "      <td>3</td>\n",
       "      <td>1</td>\n",
       "    </tr>\n",
       "    <tr>\n",
       "      <th>7</th>\n",
       "      <td>Motorola Razr 8</td>\n",
       "      <td>2657</td>\n",
       "      <td>8.000</td>\n",
       "      <td>6.67</td>\n",
       "      <td>256</td>\n",
       "      <td>1</td>\n",
       "      <td>3</td>\n",
       "      <td>1</td>\n",
       "    </tr>\n",
       "    <tr>\n",
       "      <th>8</th>\n",
       "      <td>Nokia 2660 Flip</td>\n",
       "      <td>299</td>\n",
       "      <td>4.000</td>\n",
       "      <td>2.80</td>\n",
       "      <td>128</td>\n",
       "      <td>1</td>\n",
       "      <td>1</td>\n",
       "      <td>1</td>\n",
       "    </tr>\n",
       "    <tr>\n",
       "      <th>9</th>\n",
       "      <td>Huawei P40</td>\n",
       "      <td>1949</td>\n",
       "      <td>8.000</td>\n",
       "      <td>6.10</td>\n",
       "      <td>128</td>\n",
       "      <td>1</td>\n",
       "      <td>2</td>\n",
       "      <td>0</td>\n",
       "    </tr>\n",
       "    <tr>\n",
       "      <th>10</th>\n",
       "      <td>Samsung Galaxy A55</td>\n",
       "      <td>2099</td>\n",
       "      <td>8.000</td>\n",
       "      <td>6.60</td>\n",
       "      <td>128</td>\n",
       "      <td>1</td>\n",
       "      <td>3</td>\n",
       "      <td>0</td>\n",
       "    </tr>\n",
       "    <tr>\n",
       "      <th>11</th>\n",
       "      <td>Nokia 3310</td>\n",
       "      <td>100</td>\n",
       "      <td>0.004</td>\n",
       "      <td>1.70</td>\n",
       "      <td>16</td>\n",
       "      <td>0</td>\n",
       "      <td>1</td>\n",
       "      <td>0</td>\n",
       "    </tr>\n",
       "    <tr>\n",
       "      <th>12</th>\n",
       "      <td>Samsung Galaxy M34</td>\n",
       "      <td>999</td>\n",
       "      <td>6.000</td>\n",
       "      <td>6.50</td>\n",
       "      <td>128</td>\n",
       "      <td>1</td>\n",
       "      <td>3</td>\n",
       "      <td>0</td>\n",
       "    </tr>\n",
       "    <tr>\n",
       "      <th>13</th>\n",
       "      <td>Xiaomi Poco X6 Pro</td>\n",
       "      <td>1699</td>\n",
       "      <td>12.000</td>\n",
       "      <td>6.67</td>\n",
       "      <td>512</td>\n",
       "      <td>1</td>\n",
       "      <td>3</td>\n",
       "      <td>0</td>\n",
       "    </tr>\n",
       "    <tr>\n",
       "      <th>14</th>\n",
       "      <td>Lg V60</td>\n",
       "      <td>1499</td>\n",
       "      <td>6.000</td>\n",
       "      <td>6.80</td>\n",
       "      <td>128</td>\n",
       "      <td>1</td>\n",
       "      <td>3</td>\n",
       "      <td>0</td>\n",
       "    </tr>\n",
       "  </tbody>\n",
       "</table>\n",
       "</div>"
      ],
      "text/plain": [
       "                       name  price     ram  screen  disk  oled  os  foldable\n",
       "0                Huawei P30   1699   6.000    6.10   128     1   3         0\n",
       "1           Huawei P20 Lite    899   4.000    5.80    64     0   3         0\n",
       "2                 Iphone 15   4699   6.000    6.70   128     1   0         0\n",
       "3                 Iphone 12   2499   4.000    6.10    64     1   0         0\n",
       "4       Motorola Razr Ultra   3999   8.000    6.90   256     1   3         1\n",
       "5          Motorola Razr 40   2999   8.000    6.90   256     1   3         1\n",
       "6   Samsung Galaxy Z Flip 5   5599   8.000    6.70   256     1   3         1\n",
       "7           Motorola Razr 8   2657   8.000    6.67   256     1   3         1\n",
       "8           Nokia 2660 Flip    299   4.000    2.80   128     1   1         1\n",
       "9                Huawei P40   1949   8.000    6.10   128     1   2         0\n",
       "10       Samsung Galaxy A55   2099   8.000    6.60   128     1   3         0\n",
       "11               Nokia 3310    100   0.004    1.70    16     0   1         0\n",
       "12       Samsung Galaxy M34    999   6.000    6.50   128     1   3         0\n",
       "13       Xiaomi Poco X6 Pro   1699  12.000    6.67   512     1   3         0\n",
       "14                   Lg V60   1499   6.000    6.80   128     1   3         0"
      ]
     },
     "execution_count": 5,
     "metadata": {},
     "output_type": "execute_result"
    }
   ],
   "source": [
    "data.columns = list(map(lambda s: s.split(\"-\")[0],data.columns))\n",
    "data"
   ]
  },
  {
   "cell_type": "code",
   "execution_count": 6,
   "metadata": {},
   "outputs": [
    {
     "data": {
      "text/html": [
       "<div>\n",
       "<style scoped>\n",
       "    .dataframe tbody tr th:only-of-type {\n",
       "        vertical-align: middle;\n",
       "    }\n",
       "\n",
       "    .dataframe tbody tr th {\n",
       "        vertical-align: top;\n",
       "    }\n",
       "\n",
       "    .dataframe thead th {\n",
       "        text-align: right;\n",
       "    }\n",
       "</style>\n",
       "<table border=\"1\" class=\"dataframe\">\n",
       "  <thead>\n",
       "    <tr style=\"text-align: right;\">\n",
       "      <th></th>\n",
       "      <th>id</th>\n",
       "      <th>preferred_to</th>\n",
       "    </tr>\n",
       "  </thead>\n",
       "  <tbody>\n",
       "    <tr>\n",
       "      <th>0</th>\n",
       "      <td>0</td>\n",
       "      <td>1</td>\n",
       "    </tr>\n",
       "    <tr>\n",
       "      <th>1</th>\n",
       "      <td>4</td>\n",
       "      <td>6</td>\n",
       "    </tr>\n",
       "    <tr>\n",
       "      <th>2</th>\n",
       "      <td>8</td>\n",
       "      <td>11</td>\n",
       "    </tr>\n",
       "    <tr>\n",
       "      <th>3</th>\n",
       "      <td>3</td>\n",
       "      <td>2</td>\n",
       "    </tr>\n",
       "    <tr>\n",
       "      <th>4</th>\n",
       "      <td>3</td>\n",
       "      <td>9</td>\n",
       "    </tr>\n",
       "  </tbody>\n",
       "</table>\n",
       "</div>"
      ],
      "text/plain": [
       "   id  preferred_to\n",
       "0   0             1\n",
       "1   4             6\n",
       "2   8            11\n",
       "3   3             2\n",
       "4   3             9"
      ]
     },
     "execution_count": 6,
     "metadata": {},
     "output_type": "execute_result"
    }
   ],
   "source": [
    "prefs"
   ]
  },
  {
   "cell_type": "code",
   "execution_count": 7,
   "metadata": {},
   "outputs": [],
   "source": [
    "def show_preferences(prefs,names,id_column=\"id\",pref_column = \"preferred_to\"):\n",
    "    for i,j in zip(prefs[id_column],prefs[pref_column]):\n",
    "        print(f\"{names[i]} is preferred to {names[j]}\")"
   ]
  },
  {
   "cell_type": "code",
   "execution_count": 8,
   "metadata": {},
   "outputs": [],
   "source": [
    "def verify_preferences(prefs,values,names,id_column=\"id\",pref_column = \"preferred_to\"):\n",
    "    for i,j in zip(prefs[id_column],prefs[pref_column]):\n",
    "        if values[i] > values[j]: # for rankings\n",
    "            print(f\"{names[i]} is not preferred to {names[j]}!\")"
   ]
  },
  {
   "cell_type": "code",
   "execution_count": 9,
   "metadata": {},
   "outputs": [
    {
     "name": "stdout",
     "output_type": "stream",
     "text": [
      "Huawei P30 is preferred to Huawei P20 Lite\n",
      "Motorola Razr Ultra is preferred to Samsung Galaxy Z Flip 5\n",
      "Nokia 2660 Flip is preferred to Nokia 3310\n",
      "Iphone 12 is preferred to Iphone 15\n",
      "Iphone 12 is preferred to Huawei P40\n"
     ]
    }
   ],
   "source": [
    "show_preferences(prefs,data[\"name\"])"
   ]
  },
  {
   "cell_type": "markdown",
   "metadata": {},
   "source": [
    "#### 1. What is the domain of the problem about?\n",
    "\t\n",
    "The problem involves constinst of various phones and some of their parameters."
   ]
  },
  {
   "cell_type": "markdown",
   "metadata": {},
   "source": [
    "#### 2. What is the source of the data?\n",
    "\n",
    "The data is taken from the internet from various online shops that offer these phones. Some of their parameters were chosen and combined into this dataset."
   ]
  },
  {
   "cell_type": "markdown",
   "metadata": {},
   "source": [
    "#### 3. What is the point of view of the decision maker?\n",
    "\n",
    "The decision maker is me and I value phones that have a reasonable price and are android. I also have a slight interest in foldable phones."
   ]
  },
  {
   "cell_type": "markdown",
   "metadata": {},
   "source": [
    "#### 4. What is the number of alternatives considered? Were there more of them in the original data set?\n",
    "    \n",
    "The number of alternatives is:"
   ]
  },
  {
   "cell_type": "code",
   "execution_count": 10,
   "metadata": {},
   "outputs": [
    {
     "data": {
      "text/plain": [
       "15"
      ]
     },
     "execution_count": 10,
     "metadata": {},
     "output_type": "execute_result"
    }
   ],
   "source": [
    "len(data)"
   ]
  },
  {
   "cell_type": "markdown",
   "metadata": {},
   "source": [
    "There were not more of them in the dataset, as it was manually constructed. However the number of alternatives absolutely could have been greater."
   ]
  },
  {
   "cell_type": "markdown",
   "metadata": {},
   "source": [
    "#### 5. Describe one of the alternatives considered\n",
    "   \n",
    "   The first alternative is Huawei P30. Its price is 1699 and it is given in złotys. It has 6 GB of ram, a screen size of 6.1\", a disk of 128 GB. It has an oled screen, an Android operating system and is not foldable. I currently own that phone.\n"
   ]
  },
  {
   "cell_type": "markdown",
   "metadata": {},
   "source": [
    "#### 6. What is the number of criteria considered? Were there more of them in the original data set?\n",
    "\n",
    "   The number of criteria considered is:"
   ]
  },
  {
   "cell_type": "code",
   "execution_count": 11,
   "metadata": {},
   "outputs": [
    {
     "data": {
      "text/plain": [
       "7"
      ]
     },
     "execution_count": 11,
     "metadata": {},
     "output_type": "execute_result"
    }
   ],
   "source": [
    "len(data.drop(columns=\"name\").columns)"
   ]
  },
  {
   "cell_type": "markdown",
   "metadata": {},
   "source": [
    "There were not more of them in the dataset. "
   ]
  },
  {
   "cell_type": "markdown",
   "metadata": {},
   "source": [
    "#### 7. What is the origin of the various criteria?\n",
    "#### 8. What are the domains of the individual criteria?\n",
    "\n",
    "\n",
    "##### Cost criteria\n",
    "Price criteria comes from one of the various online offers for a given alternative. It is continous, its range is from 100 up to 5599. It is the only cost criterion\n",
    "\n",
    "##### Gain criteria\n",
    "\n",
    "Ram, screen and disk are some parameters of the phones. \n",
    "\n",
    "Ram is continuous - from 0.004 to 12\n",
    "\n",
    "Screen is continuous - from 1.7 to 6.9\n",
    "\n",
    "Disk is continuous - from 16 to 512\n",
    "\n",
    "Oled and foldable are binary and describe if the phone has an oled screen and if it is foldable. Both of these features are desired.\n",
    "\n",
    "OS is a criterion evaluated by the decision maker, which signifies which os the phone uses:\n",
    "\n",
    "- 0 - Iphone\n",
    "- 1 - Misc.\n",
    "- 2 - Harmony OS\n",
    "- 3 - Android"
   ]
  },
  {
   "cell_type": "markdown",
   "metadata": {},
   "source": [
    "#### 9. Are all criteria of equal importance (should they have the same ”weights”)? If not, can the relative importance of the criteria under consideration be expressed in terms of weights? In this case, estimate the weights of each criterion on a scale of 1 to 10. Are there any criteria among the criteria that are completely or almost invalid / irrelevant?\n",
    "\n",
    "The criteria are not of equal importance. Weights estimated by the decision maker:"
   ]
  },
  {
   "cell_type": "code",
   "execution_count": 12,
   "metadata": {},
   "outputs": [],
   "source": [
    "estimated_weights = [9,4,2,3,5,8,6]"
   ]
  },
  {
   "cell_type": "markdown",
   "metadata": {},
   "source": [
    "The least important criterion is probably the screen size, as most modern phones have very similar and reasonable screen sizes. In fact it the screen were too large, it might even be a negative (unless foldable). However the latter case does not appear in the dataset."
   ]
  },
  {
   "cell_type": "markdown",
   "metadata": {},
   "source": [
    "#### 10. Are there dominated alternatives among the considered data set?"
   ]
  },
  {
   "cell_type": "code",
   "execution_count": 61,
   "metadata": {},
   "outputs": [],
   "source": [
    "def find_dominated_alternatives(data:pd.DataFrame,isGain:List[bool],domination=lambda a,b:not a>=b):\n",
    "\n",
    "    a = len(data)\n",
    "    nameless_data = data.drop(columns=\"name\")\n",
    "    \n",
    "    dominates = [[] for _ in range(a)]\n",
    "\n",
    "    for a_i in range(a):\n",
    "        for a_j in range(a):\n",
    "            if a_i == a_j:\n",
    "                break\n",
    "\n",
    "            i_dominates_j = True\n",
    "            for g_j,g in enumerate(nameless_data):\n",
    "                g_vals = np.array(data[g])\n",
    "\n",
    "                if not isGain[g_j]:\n",
    "                        \n",
    "                    g_vals *= -1\n",
    "\n",
    "                val_i = g_vals[a_i]\n",
    "                val_j = g_vals[a_j]\n",
    "\n",
    "                if domination(val_i,val_j):\n",
    "                    i_dominates_j = False\n",
    "                    break\n",
    "        \n",
    "            if i_dominates_j:\n",
    "                dominates[a_i].append(a_j)\n",
    "\n",
    "    return dominates\n",
    "\n",
    "def show_domination(dominates,names,title=\"i dominates:\",pref=\">\"):\n",
    "    print(title)\n",
    "    for i,dominated in enumerate(dominates):\n",
    "        print(f\"{names[i]} {pref} \",end=\"\")\n",
    "        print(*map(lambda j: names[j],dominated),sep=\", \")\n"
   ]
  },
  {
   "cell_type": "code",
   "execution_count": 62,
   "metadata": {},
   "outputs": [
    {
     "name": "stdout",
     "output_type": "stream",
     "text": [
      "i dominates:\n",
      "Huawei P30 > \n",
      "Huawei P20 Lite > \n",
      "Iphone 15 > \n",
      "Iphone 12 > \n",
      "Motorola Razr Ultra > Iphone 15\n",
      "Motorola Razr 40 > Iphone 15, Motorola Razr Ultra\n",
      "Samsung Galaxy Z Flip 5 > \n",
      "Motorola Razr 8 > \n",
      "Nokia 2660 Flip > \n",
      "Huawei P40 > Iphone 12\n",
      "Samsung Galaxy A55 > Iphone 12\n",
      "Nokia 3310 > \n",
      "Samsung Galaxy M34 > Huawei P30, Iphone 12\n",
      "Xiaomi Poco X6 Pro > Huawei P30, Iphone 12, Huawei P40, Samsung Galaxy A55\n",
      "Lg V60 > Huawei P30, Iphone 15, Iphone 12\n"
     ]
    }
   ],
   "source": [
    "show_domination(find_dominated_alternatives(data,crit_types),data[\"name\"])"
   ]
  },
  {
   "cell_type": "markdown",
   "metadata": {},
   "source": [
    "Looking at this, there is no Pareto Optimal solution."
   ]
  },
  {
   "cell_type": "markdown",
   "metadata": {},
   "source": [
    "#### 11. What should the theoretically best alternative look like in your opinion? Is it a small advantage on many criteria, or rather a strong advantage on few (but key) criteria? Which?\n",
    "\n",
    "In my opinion it should be a criteria that is strong on few key criteria like price and os preferably with an oled screen and foldable."
   ]
  },
  {
   "cell_type": "markdown",
   "metadata": {},
   "source": [
    "#### 12. Which of the considered alternatives (provide name and values on individual criteria) seems to be the best / definitely better than the others? Is it determined by one reason (e.g. definitely the lowest price) or rather the overall value of the criteria? Does this alternative still have any weaknesses?\n",
    "\n",
    "This is probably biased but the best alternative seems to be the Huawei P30. It is determined by its overall value on all criteria. Its major weakness is that its not foldable and also criteria which did not make it into the dataset."
   ]
  },
  {
   "cell_type": "markdown",
   "metadata": {},
   "source": [
    "#### 13. Which of the considered alternatives (provide name and values on individual criteria) seems to be the worst / definitely worse than the others? Is it determined by one reason (e.g. definitely the highest price), or rather the overall value of the criteria? Does this alternative still have any strengths?\n",
    "\n",
    "Again a biased opinion, but Iphone 15 seems to be the worst. It is determined by its very high price and dislike towards iphones. It does not seem to have any great strengths."
   ]
  },
  {
   "cell_type": "code",
   "execution_count": 16,
   "metadata": {},
   "outputs": [],
   "source": [
    "def rank_string(ranking,names,third_column=None,third_name=\"id\"):\n",
    "\t_str = f'{\"rank\":<5} | {\"name\":30} | {third_name:<5}\\n'\n",
    "\t_str += len(_str)*\"=\"\n",
    "\t_str += \"\\n\"\n",
    "\t# for i,n in sorted(zip(ranking,names),key=lambda a:a[0]):\n",
    "\tfor i,_id in enumerate(ranking):\n",
    "\t\tn = names[_id]\n",
    "\t\t_str += f\"{i:<5} | {n:<30} | {_id if third_column is None else third_column[_id]:<5}\\n\"\n",
    "\treturn _str\n",
    "\n",
    "def show_rank(ranking,names):\n",
    "\tprint(rank_string(ranking,names))"
   ]
  },
  {
   "cell_type": "markdown",
   "metadata": {},
   "source": [
    "## SRF"
   ]
  },
  {
   "cell_type": "code",
   "execution_count": 17,
   "metadata": {},
   "outputs": [],
   "source": [
    "def srf(rank:List[Optional[Tuple[str]]])->Dict[str,float]:\n",
    "    \"\"\"\n",
    "        blank cards are none\n",
    "    \"\"\"\n",
    "\n",
    "    n = len(rank)\n",
    "    z = n-1\n",
    "    blanks_below = rank.count(None)\n",
    "    t = n-blanks_below\n",
    "    r = []\n",
    "\n",
    "    for i,elem in enumerate(rank):\n",
    "        if elem is None:\n",
    "            continue\n",
    "        r.append(n-i)\n",
    "    \n",
    "    weights = np.array([1+((z-1)*((r_t-1)/(r[0]-1))) for r_t in r])\n",
    "\n",
    "    criterions = filter(lambda a: not a is None,rank)\n",
    "    mapping = {}\n",
    "    for i,crits in enumerate(criterions):\n",
    "        for crit in crits:\n",
    "            mapping[crit] = weights[i]\n",
    "    \n",
    "    _sum = sum(mapping.values())\n",
    "    mapping = dict([(k,v/_sum) for k,v in mapping.items()])\n",
    "\n",
    "    return mapping"
   ]
  },
  {
   "cell_type": "code",
   "execution_count": 18,
   "metadata": {},
   "outputs": [],
   "source": [
    "ranking = [\n",
    "    (\"price\",),\n",
    "    None,\n",
    "    None,\n",
    "    (\"os\",),\n",
    "    (\"foldable\",),\n",
    "    None,\n",
    "    (\"oled\",\"screen\"),\n",
    "    (\"ram\",\"disk\")]"
   ]
  },
  {
   "cell_type": "code",
   "execution_count": 19,
   "metadata": {},
   "outputs": [
    {
     "name": "stdout",
     "output_type": "stream",
     "text": [
      "{'price': 0.33793103448275863, 'os': 0.21379310344827587, 'foldable': 0.17241379310344826, 'oled': 0.0896551724137931, 'screen': 0.0896551724137931, 'ram': 0.04827586206896552, 'disk': 0.04827586206896552}\n"
     ]
    }
   ],
   "source": [
    "crit_weights = srf(ranking)\n",
    "print(crit_weights)\n",
    "srf_weights = list(map(lambda c: crit_weights[c],data.drop(columns=\"name\").columns))"
   ]
  },
  {
   "cell_type": "code",
   "execution_count": 20,
   "metadata": {},
   "outputs": [
    {
     "data": {
      "text/plain": [
       "array([0.24324324, 0.10810811, 0.05405405, 0.08108108, 0.13513514,\n",
       "       0.21621622, 0.16216216])"
      ]
     },
     "execution_count": 20,
     "metadata": {},
     "output_type": "execute_result"
    }
   ],
   "source": [
    "estimated_weights = np.array(estimated_weights)/np.sum(estimated_weights)\n",
    "estimated_weights"
   ]
  },
  {
   "cell_type": "code",
   "execution_count": 21,
   "metadata": {},
   "outputs": [
    {
     "data": {
      "text/plain": [
       "array({'price': 0.33793103448275863, 'os': 0.21379310344827587, 'foldable': 0.17241379310344826, 'oled': 0.0896551724137931, 'screen': 0.0896551724137931, 'ram': 0.04827586206896552, 'disk': 0.04827586206896552},\n",
       "      dtype=object)"
      ]
     },
     "execution_count": 21,
     "metadata": {},
     "output_type": "execute_result"
    }
   ],
   "source": [
    "np.array(crit_weights)"
   ]
  },
  {
   "cell_type": "markdown",
   "metadata": {},
   "source": [
    "The weights gained from the SRF method are not far off from the estimated weights and it just comes down to tweaking the preferencial informations."
   ]
  },
  {
   "cell_type": "markdown",
   "metadata": {},
   "source": [
    "## PROMETHEE"
   ]
  },
  {
   "cell_type": "code",
   "execution_count": 22,
   "metadata": {},
   "outputs": [],
   "source": [
    "def type_1(d):\n",
    "\treturn 1 if d > 0 else 0\n",
    "\n",
    "def type_5(d,q:float,p:float):\n",
    "\tif d > p:\n",
    "\t\treturn 1\n",
    "\telif d <= q:\n",
    "\t\treturn 0\n",
    "\telse: \n",
    "\t\treturn (d-q)/(p-q)"
   ]
  },
  {
   "cell_type": "code",
   "execution_count": 23,
   "metadata": {},
   "outputs": [],
   "source": [
    "class Promethee:\n",
    "\tdef __init__(self,data:pd.DataFrame,criterion_type:Tuple[bool],criterion_weights:Tuple[float]=None,discrimination_thresholds:np.array=None):\n",
    "\t\tself.data = data.drop(columns=\"name\")\n",
    "\t\tself.names = data[\"name\"]\n",
    "\t\tself.ranking = [i for i in range(len(self.names))]\n",
    "\t\tself.is_crit_gain = criterion_type\n",
    "\t\tself.criterion_weighs = criterion_weights\n",
    "\t\tself.criterion_funcs = self._init_crit_funcs(discrimination_thresholds)\n",
    "\n",
    "\tdef _init_crit_funcs(self,disc_thresh):\n",
    "\t\toutput=[]\n",
    "\t\tfor i,(p,q) in enumerate(disc_thresh):\n",
    "\t\t\toutput.append((lambda qi,pi: lambda a,b: type_5(a-b,qi,pi))(q,p) if self.is_crit_gain[i] else (lambda qi,pi: lambda a,b: type_5(b-a,qi,pi))(q,p))\n",
    "\t\treturn output\n",
    "\t\t\n",
    "\n",
    "\tdef _cp_index(self,data:pd.DataFrame,criterion_weights:List[float]=None,criterion_func:List[callable]=None)->np.array:\n",
    "\n",
    "\t\tn = len(data)\n",
    "\t\tmatrix = np.zeros((n,n))\n",
    "\n",
    "\t\tif criterion_weights==None:\n",
    "\t\t\tcriterion_weights = [1 for _ in data.columns]\n",
    "\n",
    "\t\tif criterion_func == None:\n",
    "\t\t\tcriterion_func = [type_1 for _ in criterion_weights]\n",
    "\n",
    "\t\tfor c,criterion in enumerate(data.columns):\n",
    "\t\t\tfor i,a in enumerate(data[criterion]):\n",
    "\t\t\t\tfor j,b in enumerate(data[criterion][i+1:],i+1):\n",
    "\t\t\t\t\tpi = criterion_func[c]\n",
    "\t\t\t\t\tw = criterion_weights[c]\n",
    "\t\t\t\t\tmatrix[i][j] += w * pi(a,b)\n",
    "\t\t\t\t\tmatrix[j][i] += w * pi(b,a)\n",
    "\t\t\n",
    "\t\treturn matrix/sum(criterion_weights)\n",
    "\t\n",
    "\tdef _flow(self,cpi:np.array):\n",
    "\t\tpositive_flow = np.sum(cpi,axis=1)\n",
    "\t\tnegative_flow = np.sum(cpi,axis=0)\n",
    "\n",
    "\t\treturn positive_flow,negative_flow\n",
    "\t\n",
    "\tdef _flip_rank(self,rank):\n",
    "\t\tflipped = [None for id in rank]\n",
    "\t\tfor r,id in enumerate(rank):\n",
    "\t\t\tflipped[id] = r\n",
    "\t\treturn flipped\n",
    "\n",
    "\tdef flipped_ranking(self):\n",
    "\t\treturn self._flip_rank(self.ranking)\n",
    "\n",
    "\tdef __str__(self):\n",
    "\t\treturn rank_string(self.ranking,self.names)"
   ]
  },
  {
   "cell_type": "code",
   "execution_count": 24,
   "metadata": {},
   "outputs": [],
   "source": [
    "class Promethee1(Promethee):\n",
    "\tdef rank(self):\n",
    "\t\tcpi = self._cp_index(self.data,self.criterion_weighs,self.criterion_funcs)\n",
    "\t\tself.pos_flow,self.neg_flow = self._flow(cpi)\n",
    "\n",
    "\t\tself.pos_rank = np.argsort(-self.pos_flow)\n",
    "\t\tself.neg_rank = np.argsort(self.neg_flow)\n",
    "\n",
    "\t\tpos_pref_matrix = self._pref_from_ranking(self.pos_rank)\n",
    "\t\tneg_pref_matrix = self._pref_from_ranking(self.neg_rank)\n",
    "\n",
    "\t\tcombined_matrix = np.logical_and(pos_pref_matrix,neg_pref_matrix).astype(np.uint8)\n",
    "\n",
    "\t\tself._simplify_ranking(combined_matrix)\n",
    "\t\t\n",
    "\t\tself._show_ranking(combined_matrix)\n",
    "\n",
    "\t\treturn self.ranking\n",
    "\t\n",
    "\tdef _show_ranking(self,matrix):\n",
    "\t\tg = nx.DiGraph(matrix)\n",
    "\t\tpos = nx.drawing.nx_agraph.graphviz_layout(g, prog='dot')\n",
    "\t\tplt.figure(figsize=(10,10))\n",
    "\t\tnx.draw(g,pos,with_labels=False)\n",
    "\t\tcustom_labels = self.names\n",
    "\t\tnx.draw_networkx_labels(g, pos, labels=custom_labels, font_size=12, font_color='black')\n",
    "\n",
    "\tdef _simplify_ranking(self,matrix):\n",
    "\t\t#for i, row in enumerate(matrix):\n",
    "\t\tfor i in range(len(matrix)):\n",
    "\t\t\tmatrix = self._remove_transient_connections(matrix,i)\n",
    "\t\t\t\n",
    "\t\t\t\n",
    "\n",
    "\tdef _remove_transient_connections(self,matrix,start):\n",
    "\t\t#bfs \n",
    "\t\tq = Queue()\n",
    "\t\tq.put(start)\n",
    "\t\tisQueued = [False for _ in matrix]\n",
    "\t\twhile not q.empty():\n",
    "\t\t\ti = q.get()\n",
    "\t\t\t#neighbours = np.where(matrix[i]==1)\n",
    "\t\t\trow = matrix[i]\n",
    "\t\t\tfor j,n in enumerate(row):\n",
    "\t\t\t\tif n == 0: continue\n",
    "\n",
    "\t\t\t\tif i != start and matrix[start,j] == 1:\n",
    "\t\t\t\t\tmatrix[start,j] = 0\n",
    "\n",
    "\t\t\t\t#if isQueued[j]\n",
    "\t\t\t\tq.put(j)\n",
    "\n",
    "\t\treturn matrix\n",
    "\t\n",
    "\n",
    "\tdef _pref_from_ranking(self,ranking):\n",
    "\t\ta = len(self.data)\n",
    "\t\tpref_matrix = np.zeros((a,a))\t\n",
    "\n",
    "\t\tfor r_i,i in enumerate(ranking):\n",
    "\t\t\tfor r_j,j in enumerate(ranking[r_i+1:],r_i):\n",
    "\t\t\t\tpref_matrix[i][j] = 1\n",
    "\n",
    "\t\treturn pref_matrix\n",
    "\n",
    "\n",
    "\tdef __str__(self):\n",
    "\t\treturn f\"Positive flow ranking:\\n{self.positive_ranking()}\\nNegative flow ranking:\\n{self.negative_ranking()}\"\n",
    "\t\n",
    "\tdef positive_ranking(self):\n",
    "\t\treturn rank_string(self.pos_rank,self.names)\n",
    "\tdef negative_ranking(self):\n",
    "\t\treturn rank_string(self.neg_rank,self.names)\n",
    "\n",
    "\tdef _pref_check(self,i,j):\n",
    "\t\treturn self.pos_flow[i] >= self.pos_flow[j] and self.neg_flow[i] <= self.neg_flow[j]\n",
    "\tdef _equal_check(self,i,j):\n",
    "\t\treturn (np.allclose(self.pos_flow[i],self.pos_flow[j]) and np.allclose(self.neg_flow[i],self.neg_flow[j]))\n",
    "\tdef _incomparable(self,i,j):\n",
    "\t\treturn ((self.pos_flow[i] > self.pos_flow[j] and self.neg_flow[i] > self.neg_flow[j]) or \n",
    "\t\t\t\t(self.pos_flow[i] < self.pos_flow[j] and self.neg_flow[i] < self.neg_flow[j]))"
   ]
  },
  {
   "cell_type": "code",
   "execution_count": 25,
   "metadata": {},
   "outputs": [],
   "source": [
    "class Promethee2(Promethee):\n",
    "\tdef rank(self):\n",
    "\t\tself.cpi = self._cp_index(self.data,self.criterion_weighs,self.criterion_funcs)\n",
    "\t\tpos_flow,neg_flow = self._flow(self.cpi)\n",
    "\n",
    "\t\tself.f = pos_flow-neg_flow\n",
    "\n",
    "\t\tself.ranking = np.argsort(-self.f)\n",
    "\n",
    "\t\treturn self.ranking"
   ]
  },
  {
   "cell_type": "markdown",
   "metadata": {},
   "source": [
    "Preferential information used for PROMETHEE I and II."
   ]
  },
  {
   "cell_type": "code",
   "execution_count": 26,
   "metadata": {},
   "outputs": [],
   "source": [
    "crit_discrimination = [\n",
    "    #p,q\n",
    "\t[500,100],\n",
    "\t[4,2],\n",
    "\t[0.5,0.1],\n",
    "\t[64,16],\n",
    "\t[0,0],\n",
    "\t[2,0],\n",
    "\t[0,0]\n",
    "]"
   ]
  },
  {
   "cell_type": "markdown",
   "metadata": {},
   "source": [
    "The final ranking created by PROMETHEE I."
   ]
  },
  {
   "cell_type": "code",
   "execution_count": 27,
   "metadata": {},
   "outputs": [
    {
     "data": {
      "text/plain": [
       "[0, 1, 2, 3, 4, 5, 6, 7, 8, 9, 10, 11, 12, 13, 14]"
      ]
     },
     "execution_count": 27,
     "metadata": {},
     "output_type": "execute_result"
    },
    {
     "data": {
      "image/png": "[encoded data removed]",
      "text/plain": [
       "<Figure size 720x720 with 1 Axes>"
      ]
     },
     "metadata": {},
     "output_type": "display_data"
    }
   ],
   "source": [
    "prom1ranker = Promethee1(data,crit_types,srf_weights,crit_discrimination)\n",
    "prom1ranker.rank()"
   ]
  },
  {
   "cell_type": "markdown",
   "metadata": {},
   "source": [
    "The positive flow ranking achieved by PROMETHEE I."
   ]
  },
  {
   "cell_type": "code",
   "execution_count": 28,
   "metadata": {},
   "outputs": [
    {
     "name": "stdout",
     "output_type": "stream",
     "text": [
      "rank  | name                           | id   \n",
      "===============================================\n",
      "0     | Nokia 2660 Flip                | 8    \n",
      "1     | Samsung Galaxy M34             | 12   \n",
      "2     | Xiaomi Poco X6 Pro             | 13   \n",
      "3     | Motorola Razr 8                | 7    \n",
      "4     | Motorola Razr 40               | 5    \n",
      "5     | Motorola Razr Ultra            | 4    \n",
      "6     | Huawei P20 Lite                | 1    \n",
      "7     | Lg V60                         | 14   \n",
      "8     | Nokia 3310                     | 11   \n",
      "9     | Samsung Galaxy Z Flip 5        | 6    \n",
      "10    | Huawei P30                     | 0    \n",
      "11    | Samsung Galaxy A55             | 10   \n",
      "12    | Huawei P40                     | 9    \n",
      "13    | Iphone 12                      | 3    \n",
      "14    | Iphone 15                      | 2    \n",
      "\n"
     ]
    }
   ],
   "source": [
    "print(prom1ranker.positive_ranking())"
   ]
  },
  {
   "cell_type": "code",
   "execution_count": 29,
   "metadata": {},
   "outputs": [
    {
     "name": "stdout",
     "output_type": "stream",
     "text": [
      "Huawei P30 is not preferred to Huawei P20 Lite!\n",
      "Iphone 12 is not preferred to Huawei P40!\n"
     ]
    }
   ],
   "source": [
    "verify_preferences(prefs,prom1ranker._flip_rank(prom1ranker.pos_rank),data[\"name\"])"
   ]
  },
  {
   "cell_type": "markdown",
   "metadata": {},
   "source": [
    "The negative flow ranking achieved by PROMETHEE I."
   ]
  },
  {
   "cell_type": "code",
   "execution_count": 30,
   "metadata": {},
   "outputs": [
    {
     "name": "stdout",
     "output_type": "stream",
     "text": [
      "rank  | name                           | id   \n",
      "===============================================\n",
      "0     | Samsung Galaxy M34             | 12   \n",
      "1     | Xiaomi Poco X6 Pro             | 13   \n",
      "2     | Lg V60                         | 14   \n",
      "3     | Motorola Razr 8                | 7    \n",
      "4     | Huawei P30                     | 0    \n",
      "5     | Samsung Galaxy A55             | 10   \n",
      "6     | Motorola Razr 40               | 5    \n",
      "7     | Nokia 2660 Flip                | 8    \n",
      "8     | Motorola Razr Ultra            | 4    \n",
      "9     | Huawei P20 Lite                | 1    \n",
      "10    | Samsung Galaxy Z Flip 5        | 6    \n",
      "11    | Huawei P40                     | 9    \n",
      "12    | Nokia 3310                     | 11   \n",
      "13    | Iphone 12                      | 3    \n",
      "14    | Iphone 15                      | 2    \n",
      "\n"
     ]
    }
   ],
   "source": [
    "print(prom1ranker.negative_ranking())"
   ]
  },
  {
   "cell_type": "code",
   "execution_count": 31,
   "metadata": {},
   "outputs": [
    {
     "name": "stdout",
     "output_type": "stream",
     "text": [
      "Iphone 12 is not preferred to Huawei P40!\n"
     ]
    }
   ],
   "source": [
    "verify_preferences(prefs,prom1ranker._flip_rank(prom1ranker.neg_rank),data[\"name\"])"
   ]
  },
  {
   "cell_type": "markdown",
   "metadata": {},
   "source": [
    "Ranking achieved by PROMETHEE II."
   ]
  },
  {
   "cell_type": "code",
   "execution_count": 32,
   "metadata": {},
   "outputs": [
    {
     "name": "stdout",
     "output_type": "stream",
     "text": [
      "rank  | name                           | id   \n",
      "===============================================\n",
      "0     | Samsung Galaxy M34             | 12   \n",
      "1     | Xiaomi Poco X6 Pro             | 13   \n",
      "2     | Nokia 2660 Flip                | 8    \n",
      "3     | Lg V60                         | 14   \n",
      "4     | Motorola Razr 8                | 7    \n",
      "5     | Motorola Razr 40               | 5    \n",
      "6     | Motorola Razr Ultra            | 4    \n",
      "7     | Huawei P30                     | 0    \n",
      "8     | Samsung Galaxy A55             | 10   \n",
      "9     | Huawei P20 Lite                | 1    \n",
      "10    | Samsung Galaxy Z Flip 5        | 6    \n",
      "11    | Huawei P40                     | 9    \n",
      "12    | Nokia 3310                     | 11   \n",
      "13    | Iphone 12                      | 3    \n",
      "14    | Iphone 15                      | 2    \n",
      "\n"
     ]
    }
   ],
   "source": [
    "prom2ranker = Promethee2(data,crit_types,srf_weights,crit_discrimination)\n",
    "prom2ranker.rank()\n",
    "print(str(prom2ranker))\n"
   ]
  },
  {
   "cell_type": "code",
   "execution_count": 33,
   "metadata": {},
   "outputs": [
    {
     "name": "stdout",
     "output_type": "stream",
     "text": [
      "Iphone 12 is not preferred to Huawei P40!\n"
     ]
    }
   ],
   "source": [
    "verify_preferences(prefs,prom2ranker.flipped_ranking(),data[\"name\"])"
   ]
  },
  {
   "cell_type": "markdown",
   "metadata": {},
   "source": [
    "In no ranking is Iphone 12 preferred to Huawei P40 as it is stated in the preferences dataset. Comparing the two alternatives reveals that it might be just a contradiction for Iphone 12 to be preferred over Huawei P40.\n",
    "\n",
    "The Huawei P30 is not indicated to be the best. My preference towards it is just bias and it is quite a dated phone.\n",
    "\n",
    "The Iphone 15 was inticated the be the worst in every ranking, which was a bit expected."
   ]
  },
  {
   "cell_type": "markdown",
   "metadata": {},
   "source": [
    "## ELECTRE-TRI-B"
   ]
  },
  {
   "cell_type": "code",
   "execution_count": 76,
   "metadata": {},
   "outputs": [],
   "source": [
    "class ElectreTriB:\n",
    "\tdef __init__(self,data:pd.DataFrame,criterion_type:list[bool],criterion_weights:list[float],class_profiles:np.array, pref_indif_veto:np.array):\n",
    "\t\t\"\"\"\n",
    "\t\t\tclass_profiles should be (criterion x profiles)\n",
    "\n",
    "\t\t\tpref_indif_veto should be(criterion x profiles x 3)\n",
    "\t\t\"\"\"\n",
    "\t\tself.data = data.drop(columns=\"name\")\n",
    "\t\tself.names = data[\"name\"]\n",
    "\t\tself.is_crit_gain = criterion_type\n",
    "\t\tself.class_profiles = class_profiles\n",
    "\t\tself.pref_indif_veto = pref_indif_veto\n",
    "\t\tself.weights = criterion_weights\n",
    "\n",
    "\t\tself.b = self.class_profiles.shape[1]\n",
    "\t\tself.c = self.b\n",
    "\t\tself.g = len(self.data.columns)\n",
    "\t\tself.a = len(self.data)\n",
    "\n",
    "\tdef _marginals(self,thresholds,isConc=True,isInverse=False):\n",
    "\t\tmatrix = np.zeros((self.g,self.b,self.a)) if not isInverse else np.zeros((self.g,self.a,self.b))\n",
    "\n",
    "\t\tfor g_i,g in enumerate(self.data.columns):\n",
    "\t\t\tfor a_i in range(self.a):\n",
    "\t\t\t\tfor b_j in range(self.b):\n",
    "\n",
    "\t\t\t\t\t# for gain criterion\n",
    "\t\t\t\t\td = self.class_profiles[g_i][b_j]-self.data[g][a_i]\n",
    "\t\t\t\t\t\n",
    "\t\t\t\t\t# invert for cost\n",
    "\t\t\t\t\tif not self.is_crit_gain[g_i]:\n",
    "\t\t\t\t\t\td *= -1\n",
    "\n",
    "\t\t\t\t\t# invert for profile first, alternative second\n",
    "\t\t\t\t\tif isInverse:\n",
    "\t\t\t\t\t\td *= -1\n",
    "\n",
    "\t\t\t\t\tqv,p = thresholds[g_i][b_j],self.pref_indif_veto[g_i][b_j][0]\n",
    "\t\t\t\t\tout = 0\n",
    "\n",
    "\t\t\t\t\t# count concordance or discordance\n",
    "\t\t\t\t\tif isConc:\n",
    "\t\t\t\t\t\tout = self._conc(d,qv,p)\n",
    "\t\t\t\t\telse:\n",
    "\t\t\t\t\t\tout = self._disc(d,qv,p)\n",
    "\n",
    "\t\t\t\t\tif not isInverse:\n",
    "\t\t\t\t\t\tmatrix[g_i][b_j][a_i] = out\n",
    "\t\t\t\t\telse:\n",
    "\t\t\t\t\t\tmatrix[g_i][a_i][b_j] = out\n",
    "\n",
    "\t\treturn matrix\n",
    "\n",
    "\tdef _marginal_concordance(self):\n",
    "\t\tself.mconc = self._marginals(self.pref_indif_veto[:,:,1])\n",
    "\tdef _inv_m_conc(self):\n",
    "\t\tself.invmconc = self._marginals(self.pref_indif_veto[:,:,1],isInverse=True)\n",
    "\n",
    "\tdef _marginal_discordance(self):\n",
    "\t\tself.mdisc = self._marginals(self.pref_indif_veto[:,:,2],isConc=False)\n",
    "\tdef _inv_m_disc(self):\n",
    "\t\tself.invmdisc = self._marginals(self.pref_indif_veto[:,:,2],isConc=False,isInverse=True)\n",
    "\n",
    "\tdef _conc(self,d,q,p):\n",
    "\t\tif d >= p:\n",
    "\t\t\treturn 0\n",
    "\t\telif d <= q:\n",
    "\t\t\treturn 1 \n",
    "\t\telse:\n",
    "\t\t\treturn (p-d)/(p-q)\n",
    "\t\n",
    "\tdef _disc(self,d,v,p):\n",
    "\t\tif d <= p:\n",
    "\t\t\treturn 0\n",
    "\t\telif d >= v:\n",
    "\t\t\treturn 1\n",
    "\t\telse:\n",
    "\t\t\treturn (d-p)/(v-p)\n",
    "\n",
    "\tdef _comprehensive_concordance(self,mconc):\n",
    "\t\treturn np.sum((np.array(self.weights)*mconc.T).T,axis=0)/np.sum(self.weights)\n",
    "\n",
    "\n",
    "\tdef _outranking_credibility(self):\n",
    "\t\tself.out_cred = np.zeros((self.a,self.b))\n",
    "\t\tself.inv_out_cred = np.zeros((self.b,self.a))\n",
    "\n",
    "\t\tfor a_i in range(self.a):\n",
    "\t\t\tfor b_j in range(self.b):\n",
    "\t\t\t\t_C = self.cconc[b_j][a_i]\n",
    "\t\t\t\t_invC = self.invcconc[a_i][b_j]\n",
    "\n",
    "\t\t\t\tf = [f_j for f_j in self.mdisc[:,b_j,a_i] if f_j > _C]\n",
    "\t\t\t\tinvf = [f_j for f_j in self.invmdisc[:,a_i,b_j] if f_j > _invC]\n",
    "\t\t\t\t\n",
    "\t\t\t\tprod = np.prod([(1-f_j)/(1-_C) for f_j in f])\n",
    "\t\t\t\tinvprod = np.prod([(1-f_j)/(1-_invC) for f_j in invf])\n",
    "\n",
    "\t\t\t\tself.out_cred[a_i][b_j] = _C * prod\n",
    "\t\t\t\tself.inv_out_cred[b_j][a_i] = _invC * invprod\n",
    "\n",
    "\tdef class_assignment(self,cred_threshold,isPessimistic=True):\n",
    "\t\tself.run()\n",
    "\n",
    "\t\tclasses = np.zeros(self.a,dtype=np.int16) if isPessimistic else np.full(self.a,self.c-1)\n",
    "\n",
    "\t\tfor a_i in range(self.a):\n",
    "\t\t\tfor b_j in range(self.b):\n",
    "\t\t\t\t# start from best for pessimistic\n",
    "\t\t\t\tif isPessimistic: b_j = self.b - b_j - 1\n",
    "\n",
    "\t\t\t\t\n",
    "\t\t\t\tif isPessimistic and self._pessimistic_ev(a_i,b_j,cred_threshold):\n",
    "\t\t\t\t\tb_j += 1\n",
    "\t\t\t\t\tbreak\n",
    "\n",
    "\t\t\t\tif (not isPessimistic) and self._optimistic_ev(a_i,b_j,cred_threshold):\n",
    "\t\t\t\t\tbreak\n",
    "\t\t\tclasses[a_i]=(max(min(b_j,self.c-1),0))\n",
    "\t\t\n",
    "\t\treturn classes\n",
    "\n",
    "\tdef _pessimistic_ev(self,a,b,thresh):\n",
    "\t\treturn self.out_cred[a][b] >= thresh# and self.inv_out_cred[b][a] < thresh\n",
    "\t\n",
    "\tdef _optimistic_ev(self,a,b,thresh):\n",
    "\t\treturn self.out_cred[a][b] < thresh and self.inv_out_cred[b][a] >= thresh\n",
    "\n",
    "\tdef show_assignments(self,thresh):\n",
    "\t\tprint(\"Optimistic class assignment:\")\n",
    "\t\tself.optimistic = self.class_assignment(thresh,isPessimistic=False)\n",
    "\t\tdefault_rank = [i for i in range(self.a)]\n",
    "\t\tprint(rank_string(default_rank,self.names,self.optimistic,\"class\"))\n",
    "\t\tprint(\"Pessimistic class assignment:\")\n",
    "\t\tself.pessimistic=self.class_assignment(thresh,isPessimistic=True)\n",
    "\t\tprint(rank_string(default_rank,self.names,self.pessimistic,\"class\"))\n",
    "\n",
    "\tdef run(self):\n",
    "\t\tself._marginal_concordance()\n",
    "\t\tself._inv_m_conc()\n",
    "\t\tself._marginal_discordance()\n",
    "\t\tself._inv_m_disc()\n",
    "\t\tself.cconc = self._comprehensive_concordance(self.mconc)\n",
    "\t\tself.invcconc = self._comprehensive_concordance(self.invmconc)\n",
    "\t\tself._outranking_credibility()"
   ]
  },
  {
   "cell_type": "markdown",
   "metadata": {},
   "source": [
    "Preferential information for Electre Tri-B. Class profiles describes 5 profiles for 5 decision classes. Preferences, indifferences and vetoes describe thresholds for according classes."
   ]
  },
  {
   "cell_type": "code",
   "execution_count": 43,
   "metadata": {},
   "outputs": [],
   "source": [
    "class_profiles = np.array([\n",
    "\t[5000,0.5,1,5,0,0,0],\n",
    "\t[3700,1,2,10,0,1,0],\n",
    "\t[2500,3,4.5,100,1,2,1],\n",
    "\t[1000,7,5.9,350,1,3,1],\n",
    "\t[500,16,7,640,1,3,1]\n",
    "]).T\n",
    "\n",
    "preferences = [\n",
    "\t[1000,1000,1000,1000,1000],\n",
    "\t[0.1,0.3,2,4,4],\n",
    "\t[3,0.5,0.5,0.2,0.2],\n",
    "\t[3,4,16,32,32],\n",
    "\t[1,1,0,0,0],\n",
    "\t[3,2,1,0,0],\n",
    "\t[1,1,1,0,0]\n",
    "]\n",
    "\n",
    "indifferences = [\n",
    "\t[100,100,150,200,500],\n",
    "\t[0.01,0.1,1,1,2],\n",
    "\t[1,0.3,0.25,0.1,0.1],\n",
    "\t[1,2,8,16,16],\n",
    "\t[0,0,0,0,0],\n",
    "\t[1,1,0,0,0],\n",
    "\t[0,0,0,0,0]\n",
    "]\n",
    "\n",
    "vetoes = [\n",
    "\t[1000,1000,1000,1000,2000],\n",
    "\t[0.2,0.5,8,16,16],\n",
    "\t[6,1,1,0.5,0.5],\n",
    "\t[8,16,32,64,64],\n",
    "\t[2,2,0.5,0.5,0.5],\n",
    "\t[2,2,1,1,1],\n",
    "\t[2,2,2,2,2]\n",
    "]\n",
    "\n",
    "pref_indif_vetoes = np.stack([preferences,indifferences,vetoes],axis=2)"
   ]
  },
  {
   "cell_type": "markdown",
   "metadata": {},
   "source": [
    "The outranking threshold was chosen to be 0.55, based on the weights achieved using SRF procedure. The profiles and veto thresholds were adjusted a couple of times to allow reaching some alternatives higher classes."
   ]
  },
  {
   "cell_type": "code",
   "execution_count": 80,
   "metadata": {},
   "outputs": [
    {
     "data": {
      "text/plain": [
       "0.5517241379310345"
      ]
     },
     "execution_count": 80,
     "metadata": {},
     "output_type": "execute_result"
    }
   ],
   "source": [
    "outranking_threshold = np.sum(np.sort(srf_weights)[-2:])\n",
    "outranking_threshold"
   ]
  },
  {
   "cell_type": "code",
   "execution_count": 91,
   "metadata": {},
   "outputs": [],
   "source": [
    "electre = ElectreTriB(data,crit_types,srf_weights,class_profiles,pref_indif_vetoes)\n",
    "electre.run()"
   ]
  },
  {
   "cell_type": "code",
   "execution_count": 92,
   "metadata": {},
   "outputs": [
    {
     "data": {
      "text/plain": [
       "array([[1.        , 1.        , 0.73793103, 0.        , 0.        ],\n",
       "       [1.        , 1.        , 0.        , 0.        , 0.        ],\n",
       "       [1.        , 0.66244444, 0.        , 0.        , 0.        ],\n",
       "       [1.        , 1.        , 0.        , 0.        , 0.        ],\n",
       "       [1.        , 0.92527969, 0.        , 0.        , 0.        ],\n",
       "       [1.        , 1.        , 0.77159432, 0.        , 0.        ],\n",
       "       [0.81263602, 0.        , 0.        , 0.        , 0.        ],\n",
       "       [1.        , 1.        , 0.90756187, 0.        , 0.        ],\n",
       "       [1.        , 1.        , 0.        , 0.        , 0.        ],\n",
       "       [1.        , 1.        , 0.73793103, 0.        , 0.        ],\n",
       "       [1.        , 1.        , 0.73793103, 0.        , 0.        ],\n",
       "       [0.        , 0.        , 0.        , 0.        , 0.        ],\n",
       "       [1.        , 1.        , 0.73793103, 0.        , 0.        ],\n",
       "       [1.        , 1.        , 0.73793103, 0.22817667, 0.        ],\n",
       "       [1.        , 1.        , 0.73793103, 0.        , 0.        ]])"
      ]
     },
     "execution_count": 92,
     "metadata": {},
     "output_type": "execute_result"
    }
   ],
   "source": [
    "electre.out_cred"
   ]
  },
  {
   "cell_type": "code",
   "execution_count": 97,
   "metadata": {},
   "outputs": [
    {
     "data": {
      "text/plain": [
       "array([[0.        , 0.        , 0.        , 0.60689655, 0.69655172],\n",
       "       [0.        , 0.        , 0.        , 0.7862069 , 0.7862069 ],\n",
       "       [0.        , 0.        , 0.        , 0.        , 0.91034483],\n",
       "       [0.        , 0.        , 0.        , 0.82068966, 0.91034483],\n",
       "       [0.        , 0.        , 0.        , 0.        , 0.52413793],\n",
       "       [0.        , 0.        , 0.        , 0.        , 0.52413793],\n",
       "       [0.        , 0.        , 0.        , 0.        , 0.52413793],\n",
       "       [0.        , 0.        , 0.        , 0.        , 0.52413793],\n",
       "       [0.        , 0.        , 0.        , 0.52630172, 0.73793103],\n",
       "       [0.        , 0.        , 0.        , 0.82068966, 0.91034483],\n",
       "       [0.        , 0.        , 0.        , 0.        , 0.69655172],\n",
       "       [0.        , 0.        , 0.        , 0.70431034, 1.        ],\n",
       "       [0.        , 0.        , 0.        , 0.        , 0.69655172],\n",
       "       [0.        , 0.        , 0.        , 0.        , 0.69655172],\n",
       "       [0.        , 0.        , 0.        , 0.        , 0.69655172]])"
      ]
     },
     "execution_count": 97,
     "metadata": {},
     "output_type": "execute_result"
    }
   ],
   "source": [
    "electre.inv_out_cred.T"
   ]
  },
  {
   "cell_type": "markdown",
   "metadata": {},
   "source": [
    "When it comes to outranking, there seems to be a like a border between class 2 and class 3. There outranking credibility falls and inverse outranking credibility starts rising."
   ]
  },
  {
   "cell_type": "code",
   "execution_count": 94,
   "metadata": {},
   "outputs": [
    {
     "name": "stdout",
     "output_type": "stream",
     "text": [
      "Optimistic class assignment:\n",
      "rank  | name                           | class\n",
      "===============================================\n",
      "0     | Huawei P30                     | 3    \n",
      "1     | Huawei P20 Lite                | 3    \n",
      "2     | Iphone 15                      | 4    \n",
      "3     | Iphone 12                      | 3    \n",
      "4     | Motorola Razr Ultra            | 4    \n",
      "5     | Motorola Razr 40               | 4    \n",
      "6     | Samsung Galaxy Z Flip 5        | 4    \n",
      "7     | Motorola Razr 8                | 4    \n",
      "8     | Nokia 2660 Flip                | 4    \n",
      "9     | Huawei P40                     | 3    \n",
      "10    | Samsung Galaxy A55             | 4    \n",
      "11    | Nokia 3310                     | 3    \n",
      "12    | Samsung Galaxy M34             | 4    \n",
      "13    | Xiaomi Poco X6 Pro             | 4    \n",
      "14    | Lg V60                         | 4    \n",
      "\n",
      "Pessimistic class assignment:\n",
      "rank  | name                           | class\n",
      "===============================================\n",
      "0     | Huawei P30                     | 3    \n",
      "1     | Huawei P20 Lite                | 2    \n",
      "2     | Iphone 15                      | 2    \n",
      "3     | Iphone 12                      | 2    \n",
      "4     | Motorola Razr Ultra            | 2    \n",
      "5     | Motorola Razr 40               | 3    \n",
      "6     | Samsung Galaxy Z Flip 5        | 1    \n",
      "7     | Motorola Razr 8                | 3    \n",
      "8     | Nokia 2660 Flip                | 2    \n",
      "9     | Huawei P40                     | 3    \n",
      "10    | Samsung Galaxy A55             | 3    \n",
      "11    | Nokia 3310                     | 0    \n",
      "12    | Samsung Galaxy M34             | 3    \n",
      "13    | Xiaomi Poco X6 Pro             | 3    \n",
      "14    | Lg V60                         | 3    \n",
      "\n"
     ]
    }
   ],
   "source": [
    "electre.show_assignments(outranking_threshold)"
   ]
  },
  {
   "cell_type": "markdown",
   "metadata": {},
   "source": [
    "For some of the alternatives the pessimistic and optimistic assignment are the same. The most notable is that for all alternatives the optimistic assignment gives at worst class 3."
   ]
  },
  {
   "cell_type": "markdown",
   "metadata": {},
   "source": [
    "Running the ELECTRE Tri-B with the previously estimated weights. The outranking threshold was estimated from the 3 most important critetrion, because otherwise it would be less than 0.5."
   ]
  },
  {
   "cell_type": "code",
   "execution_count": 82,
   "metadata": {},
   "outputs": [
    {
     "data": {
      "text/plain": [
       "0.6216216216216217"
      ]
     },
     "execution_count": 82,
     "metadata": {},
     "output_type": "execute_result"
    }
   ],
   "source": [
    "outranking_threshold2 = sum(np.sort(estimated_weights)[-3:])\n",
    "outranking_threshold2"
   ]
  },
  {
   "cell_type": "code",
   "execution_count": 102,
   "metadata": {},
   "outputs": [],
   "source": [
    "electre2 = ElectreTriB(data,crit_types,estimated_weights,class_profiles,pref_indif_vetoes)\n",
    "electre2.run()"
   ]
  },
  {
   "cell_type": "code",
   "execution_count": 103,
   "metadata": {},
   "outputs": [
    {
     "data": {
      "text/plain": [
       "array([[1.        , 1.        , 0.7027027 , 0.        , 0.        ],\n",
       "       [1.        , 1.        , 0.        , 0.        , 0.        ],\n",
       "       [1.        , 0.75702703, 0.        , 0.        , 0.        ],\n",
       "       [1.        , 1.        , 0.        , 0.        , 0.        ],\n",
       "       [1.        , 0.94621622, 0.        , 0.        , 0.        ],\n",
       "       [1.        , 1.        , 0.76499205, 0.        , 0.        ],\n",
       "       [0.86513514, 0.        , 0.        , 0.        , 0.        ],\n",
       "       [1.        , 1.        , 0.86286169, 0.        , 0.        ],\n",
       "       [1.        , 1.        , 0.        , 0.        , 0.        ],\n",
       "       [1.        , 1.        , 0.7027027 , 0.        , 0.        ],\n",
       "       [1.        , 1.        , 0.7027027 , 0.        , 0.        ],\n",
       "       [0.        , 0.        , 0.        , 0.        , 0.        ],\n",
       "       [1.        , 1.        , 0.7027027 , 0.        , 0.        ],\n",
       "       [1.        , 1.        , 0.7027027 , 0.25161241, 0.        ],\n",
       "       [1.        , 1.        , 0.7027027 , 0.        , 0.        ]])"
      ]
     },
     "execution_count": 103,
     "metadata": {},
     "output_type": "execute_result"
    }
   ],
   "source": [
    "electre2.out_cred"
   ]
  },
  {
   "cell_type": "code",
   "execution_count": 105,
   "metadata": {},
   "outputs": [
    {
     "data": {
      "text/plain": [
       "array([[0.        , 0.        , 0.        , 0.59459459, 0.64864865],\n",
       "       [0.        , 0.        , 0.        , 0.78378378, 0.78378378],\n",
       "       [0.        , 0.        , 0.        , 0.        , 0.86486486],\n",
       "       [0.        , 0.        , 0.        , 0.81081081, 0.86486486],\n",
       "       [0.        , 0.        , 0.        , 0.        , 0.48648649],\n",
       "       [0.        , 0.        , 0.        , 0.        , 0.48648649],\n",
       "       [0.        , 0.        , 0.        , 0.        , 0.48648649],\n",
       "       [0.        , 0.        , 0.        , 0.        , 0.48648649],\n",
       "       [0.        , 0.        , 0.        , 0.55037162, 0.7027027 ],\n",
       "       [0.        , 0.        , 0.        , 0.81081081, 0.86486486],\n",
       "       [0.        , 0.        , 0.        , 0.        , 0.64864865],\n",
       "       [0.        , 0.        , 0.        , 0.78716216, 1.        ],\n",
       "       [0.        , 0.        , 0.        , 0.        , 0.64864865],\n",
       "       [0.        , 0.        , 0.        , 0.        , 0.64864865],\n",
       "       [0.        , 0.        , 0.        , 0.        , 0.64864865]])"
      ]
     },
     "execution_count": 105,
     "metadata": {},
     "output_type": "execute_result"
    }
   ],
   "source": [
    "electre2.inv_out_cred.T"
   ]
  },
  {
   "cell_type": "code",
   "execution_count": 107,
   "metadata": {},
   "outputs": [
    {
     "name": "stdout",
     "output_type": "stream",
     "text": [
      "Optimistic class assignment:\n",
      "rank  | name                           | class\n",
      "===============================================\n",
      "0     | Huawei P30                     | 3    \n",
      "1     | Huawei P20 Lite                | 3    \n",
      "2     | Iphone 15                      | 4    \n",
      "3     | Iphone 12                      | 3    \n",
      "4     | Motorola Razr Ultra            | 4    \n",
      "5     | Motorola Razr 40               | 4    \n",
      "6     | Samsung Galaxy Z Flip 5        | 4    \n",
      "7     | Motorola Razr 8                | 4    \n",
      "8     | Nokia 2660 Flip                | 4    \n",
      "9     | Huawei P40                     | 3    \n",
      "10    | Samsung Galaxy A55             | 4    \n",
      "11    | Nokia 3310                     | 3    \n",
      "12    | Samsung Galaxy M34             | 4    \n",
      "13    | Xiaomi Poco X6 Pro             | 4    \n",
      "14    | Lg V60                         | 4    \n",
      "\n",
      "Pessimistic class assignment:\n",
      "rank  | name                           | class\n",
      "===============================================\n",
      "0     | Huawei P30                     | 3    \n",
      "1     | Huawei P20 Lite                | 2    \n",
      "2     | Iphone 15                      | 2    \n",
      "3     | Iphone 12                      | 2    \n",
      "4     | Motorola Razr Ultra            | 2    \n",
      "5     | Motorola Razr 40               | 3    \n",
      "6     | Samsung Galaxy Z Flip 5        | 1    \n",
      "7     | Motorola Razr 8                | 3    \n",
      "8     | Nokia 2660 Flip                | 2    \n",
      "9     | Huawei P40                     | 3    \n",
      "10    | Samsung Galaxy A55             | 3    \n",
      "11    | Nokia 3310                     | 0    \n",
      "12    | Samsung Galaxy M34             | 3    \n",
      "13    | Xiaomi Poco X6 Pro             | 3    \n",
      "14    | Lg V60                         | 3    \n",
      "\n"
     ]
    }
   ],
   "source": [
    "electre2.show_assignments(outranking_threshold)"
   ]
  },
  {
   "cell_type": "markdown",
   "metadata": {},
   "source": [
    "As there is no substantial difference between the weights, the results are the same."
   ]
  },
  {
   "cell_type": "code",
   "execution_count": 90,
   "metadata": {},
   "outputs": [
    {
     "name": "stdout",
     "output_type": "stream",
     "text": [
      "Optimistic: \n",
      "Iphone 12 is not preferred to Iphone 15!\n",
      "\n",
      "Pessimistic: \n",
      "Iphone 12 is not preferred to Huawei P40!\n"
     ]
    }
   ],
   "source": [
    "print(\"Optimistic: \")\n",
    "verify_preferences(prefs,-electre.optimistic,data[\"name\"])\n",
    "print()\n",
    "print(\"Pessimistic: \")\n",
    "verify_preferences(prefs,-electre.pessimistic,data[\"name\"])"
   ]
  },
  {
   "cell_type": "markdown",
   "metadata": {},
   "source": [
    "Iphone 15 has a higher class assignment in the optimistic case, as it does have better qualities than it. Falling flat only on price. Again Huawei P40 is rated higher than Iphone 12, however it does seem to be an inconsistency in the a priori preferences."
   ]
  },
  {
   "cell_type": "markdown",
   "metadata": {},
   "source": [
    "Huawei P30 did get into a high class, however not the best one.\n",
    "\n",
    "Iphone 15 was indicated to be either class 2 or 4, which could be because it has solid features but is kept down by its os and price."
   ]
  }
 ],
 "metadata": {
  "kernelspec": {
   "display_name": "Python 3.9.6 64-bit",
   "language": "python",
   "name": "python3"
  },
  "language_info": {
   "codemirror_mode": {
    "name": "ipython",
    "version": 3
   },
   "file_extension": ".py",
   "mimetype": "text/x-python",
   "name": "python",
   "nbconvert_exporter": "python",
   "pygments_lexer": "ipython3",
   "version": "3.9.6"
  },
  "orig_nbformat": 4,
  "vscode": {
   "interpreter": {
    "hash": "2adcef65025017a28c8a8e125c00b146f28fabedf291ca46c1a4a0bfed978fa1"
   }
  }
 },
 "nbformat": 4,
 "nbformat_minor": 2
}
