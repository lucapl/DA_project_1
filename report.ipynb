{
 "cells": [
  {
   "cell_type": "code",
   "execution_count": 19,
   "metadata": {},
   "outputs": [],
   "source": [
    "%matplotlib inline\n",
    "import pandas as pd\n",
    "import numpy as np\n",
    "\n",
    "import matplotlib.pyplot as plt"
   ]
  },
  {
   "cell_type": "markdown",
   "metadata": {},
   "source": [
    "# Phone Ranking Problem\n",
    "\n",
    "Choosing a new phone is often quite a daunting task, with many different models from different companies and varying prices."
   ]
  },
  {
   "cell_type": "code",
   "execution_count": 53,
   "metadata": {},
   "outputs": [],
   "source": [
    "data = pd.read_csv(\"./data/dataset.csv\")\n",
    "prefs = pd.read_csv(\"./data/preferences.csv\")"
   ]
  },
  {
   "cell_type": "code",
   "execution_count": 3,
   "metadata": {},
   "outputs": [
    {
     "data": {
      "text/html": [
       "<div>\n",
       "<style scoped>\n",
       "    .dataframe tbody tr th:only-of-type {\n",
       "        vertical-align: middle;\n",
       "    }\n",
       "\n",
       "    .dataframe tbody tr th {\n",
       "        vertical-align: top;\n",
       "    }\n",
       "\n",
       "    .dataframe thead th {\n",
       "        text-align: right;\n",
       "    }\n",
       "</style>\n",
       "<table border=\"1\" class=\"dataframe\">\n",
       "  <thead>\n",
       "    <tr style=\"text-align: right;\">\n",
       "      <th></th>\n",
       "      <th>name</th>\n",
       "      <th>price-cost</th>\n",
       "      <th>ram-gain</th>\n",
       "      <th>screen-gain</th>\n",
       "      <th>disk-gain</th>\n",
       "      <th>oled-gain</th>\n",
       "      <th>os-gain</th>\n",
       "      <th>foldable-gain</th>\n",
       "    </tr>\n",
       "  </thead>\n",
       "  <tbody>\n",
       "    <tr>\n",
       "      <th>0</th>\n",
       "      <td>Huawei P30</td>\n",
       "      <td>1699</td>\n",
       "      <td>6.000</td>\n",
       "      <td>6.10</td>\n",
       "      <td>128</td>\n",
       "      <td>1</td>\n",
       "      <td>3</td>\n",
       "      <td>0</td>\n",
       "    </tr>\n",
       "    <tr>\n",
       "      <th>1</th>\n",
       "      <td>Huawei P20 Lite</td>\n",
       "      <td>899</td>\n",
       "      <td>4.000</td>\n",
       "      <td>5.80</td>\n",
       "      <td>64</td>\n",
       "      <td>0</td>\n",
       "      <td>3</td>\n",
       "      <td>0</td>\n",
       "    </tr>\n",
       "    <tr>\n",
       "      <th>2</th>\n",
       "      <td>Iphone 15</td>\n",
       "      <td>4699</td>\n",
       "      <td>6.000</td>\n",
       "      <td>6.70</td>\n",
       "      <td>128</td>\n",
       "      <td>1</td>\n",
       "      <td>0</td>\n",
       "      <td>0</td>\n",
       "    </tr>\n",
       "    <tr>\n",
       "      <th>3</th>\n",
       "      <td>Iphone 12</td>\n",
       "      <td>2499</td>\n",
       "      <td>4.000</td>\n",
       "      <td>6.10</td>\n",
       "      <td>64</td>\n",
       "      <td>1</td>\n",
       "      <td>0</td>\n",
       "      <td>0</td>\n",
       "    </tr>\n",
       "    <tr>\n",
       "      <th>4</th>\n",
       "      <td>Motorola Razr Ultra</td>\n",
       "      <td>3999</td>\n",
       "      <td>8.000</td>\n",
       "      <td>6.90</td>\n",
       "      <td>256</td>\n",
       "      <td>1</td>\n",
       "      <td>3</td>\n",
       "      <td>1</td>\n",
       "    </tr>\n",
       "    <tr>\n",
       "      <th>5</th>\n",
       "      <td>Motorola Razr 40</td>\n",
       "      <td>2999</td>\n",
       "      <td>8.000</td>\n",
       "      <td>6.90</td>\n",
       "      <td>256</td>\n",
       "      <td>1</td>\n",
       "      <td>3</td>\n",
       "      <td>1</td>\n",
       "    </tr>\n",
       "    <tr>\n",
       "      <th>6</th>\n",
       "      <td>Samsung Galaxy Z Flip 5</td>\n",
       "      <td>5599</td>\n",
       "      <td>8.000</td>\n",
       "      <td>6.70</td>\n",
       "      <td>256</td>\n",
       "      <td>1</td>\n",
       "      <td>3</td>\n",
       "      <td>1</td>\n",
       "    </tr>\n",
       "    <tr>\n",
       "      <th>7</th>\n",
       "      <td>Motorola Razr 8</td>\n",
       "      <td>2657</td>\n",
       "      <td>8.000</td>\n",
       "      <td>6.67</td>\n",
       "      <td>256</td>\n",
       "      <td>1</td>\n",
       "      <td>3</td>\n",
       "      <td>1</td>\n",
       "    </tr>\n",
       "    <tr>\n",
       "      <th>8</th>\n",
       "      <td>Nokia 2660 Flip</td>\n",
       "      <td>299</td>\n",
       "      <td>4.000</td>\n",
       "      <td>2.80</td>\n",
       "      <td>128</td>\n",
       "      <td>1</td>\n",
       "      <td>1</td>\n",
       "      <td>1</td>\n",
       "    </tr>\n",
       "    <tr>\n",
       "      <th>9</th>\n",
       "      <td>Huawei P40</td>\n",
       "      <td>1949</td>\n",
       "      <td>8.000</td>\n",
       "      <td>6.10</td>\n",
       "      <td>128</td>\n",
       "      <td>1</td>\n",
       "      <td>2</td>\n",
       "      <td>0</td>\n",
       "    </tr>\n",
       "    <tr>\n",
       "      <th>10</th>\n",
       "      <td>Samsung Galaxy A55</td>\n",
       "      <td>2099</td>\n",
       "      <td>8.000</td>\n",
       "      <td>6.60</td>\n",
       "      <td>128</td>\n",
       "      <td>1</td>\n",
       "      <td>3</td>\n",
       "      <td>0</td>\n",
       "    </tr>\n",
       "    <tr>\n",
       "      <th>11</th>\n",
       "      <td>Nokia 3310</td>\n",
       "      <td>100</td>\n",
       "      <td>0.004</td>\n",
       "      <td>1.70</td>\n",
       "      <td>16</td>\n",
       "      <td>0</td>\n",
       "      <td>1</td>\n",
       "      <td>0</td>\n",
       "    </tr>\n",
       "    <tr>\n",
       "      <th>12</th>\n",
       "      <td>Samsung Galaxy M34</td>\n",
       "      <td>999</td>\n",
       "      <td>6.000</td>\n",
       "      <td>6.50</td>\n",
       "      <td>128</td>\n",
       "      <td>1</td>\n",
       "      <td>3</td>\n",
       "      <td>0</td>\n",
       "    </tr>\n",
       "    <tr>\n",
       "      <th>13</th>\n",
       "      <td>Xiaomi Poco X6 Pro</td>\n",
       "      <td>1699</td>\n",
       "      <td>12.000</td>\n",
       "      <td>6.67</td>\n",
       "      <td>512</td>\n",
       "      <td>1</td>\n",
       "      <td>3</td>\n",
       "      <td>0</td>\n",
       "    </tr>\n",
       "    <tr>\n",
       "      <th>14</th>\n",
       "      <td>Lg V60</td>\n",
       "      <td>1499</td>\n",
       "      <td>6.000</td>\n",
       "      <td>6.80</td>\n",
       "      <td>128</td>\n",
       "      <td>1</td>\n",
       "      <td>3</td>\n",
       "      <td>0</td>\n",
       "    </tr>\n",
       "  </tbody>\n",
       "</table>\n",
       "</div>"
      ],
      "text/plain": [
       "                       name  price-cost  ram-gain  screen-gain  disk-gain  \\\n",
       "0                Huawei P30        1699     6.000         6.10        128   \n",
       "1           Huawei P20 Lite         899     4.000         5.80         64   \n",
       "2                 Iphone 15        4699     6.000         6.70        128   \n",
       "3                 Iphone 12        2499     4.000         6.10         64   \n",
       "4       Motorola Razr Ultra        3999     8.000         6.90        256   \n",
       "5          Motorola Razr 40        2999     8.000         6.90        256   \n",
       "6   Samsung Galaxy Z Flip 5        5599     8.000         6.70        256   \n",
       "7           Motorola Razr 8        2657     8.000         6.67        256   \n",
       "8           Nokia 2660 Flip         299     4.000         2.80        128   \n",
       "9                Huawei P40        1949     8.000         6.10        128   \n",
       "10       Samsung Galaxy A55        2099     8.000         6.60        128   \n",
       "11               Nokia 3310         100     0.004         1.70         16   \n",
       "12       Samsung Galaxy M34         999     6.000         6.50        128   \n",
       "13       Xiaomi Poco X6 Pro        1699    12.000         6.67        512   \n",
       "14                   Lg V60        1499     6.000         6.80        128   \n",
       "\n",
       "    oled-gain  os-gain  foldable-gain  \n",
       "0           1        3              0  \n",
       "1           0        3              0  \n",
       "2           1        0              0  \n",
       "3           1        0              0  \n",
       "4           1        3              1  \n",
       "5           1        3              1  \n",
       "6           1        3              1  \n",
       "7           1        3              1  \n",
       "8           1        1              1  \n",
       "9           1        2              0  \n",
       "10          1        3              0  \n",
       "11          0        1              0  \n",
       "12          1        3              0  \n",
       "13          1        3              0  \n",
       "14          1        3              0  "
      ]
     },
     "execution_count": 3,
     "metadata": {},
     "output_type": "execute_result"
    }
   ],
   "source": [
    "data"
   ]
  },
  {
   "cell_type": "code",
   "execution_count": 98,
   "metadata": {},
   "outputs": [
    {
     "data": {
      "text/plain": [
       "[0, 1, 1, 1, 1, 1, 1]"
      ]
     },
     "execution_count": 98,
     "metadata": {},
     "output_type": "execute_result"
    }
   ],
   "source": [
    "crit_types = [True if crit.split(\"-\")[1]==\"gain\" else False for crit in data.drop(columns=\"name\").columns ]\n",
    "crit_types"
   ]
  },
  {
   "cell_type": "markdown",
   "metadata": {},
   "source": [
    "\n",
    "1. What is the domain of the problem about?\n",
    "\t\n",
    "\tThe problem involves constinst of various phones and some of their parameters. \n",
    "\tPrice is given in złoty's, Ram in GB, Screen in inches, disk in GB, Oled and Foldable are binary variables and its beneficial for the phone to have them.\n",
    "\tOS ranks the operating systems with 0 being iOS, 1 being other, 2 being HarmonyOS and 3 being Android."
   ]
  },
  {
   "cell_type": "markdown",
   "metadata": {},
   "source": [
    "2. What is the source of the data?\n",
    "\n",
    "\tThe data is taken from the internet from various online shops that offer these phones."
   ]
  },
  {
   "cell_type": "code",
   "execution_count": 94,
   "metadata": {},
   "outputs": [],
   "source": [
    "def type_1(d):\n",
    "\treturn 1 if d > 0 else 0\n",
    "\n",
    "def type_5(d,q:float,p:float):\n",
    "\tif d > p:\n",
    "\t\treturn 1\n",
    "\telif d < q:\n",
    "\t\treturn 0\n",
    "\telse: \n",
    "\t\t(d-q)/(p-q)"
   ]
  },
  {
   "cell_type": "code",
   "execution_count": 100,
   "metadata": {},
   "outputs": [],
   "source": [
    "def rank_string(ranking,names):\n",
    "\t_str = \"\"\n",
    "\tfor i,n in sorted(zip(ranking,names),key=lambda a:a[0]):\n",
    "\t\t_str += f\"{i}:\\t{n}\"\n",
    "\treturn _str\n",
    "\n",
    "def show_rank(ranking,names):\n",
    "\tprint(rank_string(ranking,names))"
   ]
  },
  {
   "cell_type": "code",
   "execution_count": 102,
   "metadata": {},
   "outputs": [],
   "source": [
    "class Promethee:\n",
    "\tdef __init__(self,data,criterion_type,criterion_weights=None,discrimination_thresholds=None):\n",
    "\t\tself.data = data.drop(columns=\"name\")\n",
    "\t\tself.names = data[\"name\"]\n",
    "\t\tself.ranking = [i for i in range(len(self.names))]\n",
    "\t\tself.is_crit_gain = criterion_type\n",
    "\t\tself.criterion_weighs = criterion_weights\n",
    "\t\tself.criterion_funcs = self._init_crit_funcs(discrimination_thresholds)\n",
    "\n",
    "\tdef _init_crit_funcs(self,disc_thresh):\n",
    "\t\treturn [lambda a,b: type5(a-b,q,p) if self.is_crit_gain else type5(b-a,q,p) for q,p in disc_thresh]\n",
    "\t\t\n",
    "\n",
    "\tdef _cp_index(self,data:pd.DataFrame,criterion_weights:list[float]=None,criterion_func:list[callable]=None)->np.array:\n",
    "\n",
    "\t\tn = len(data)\n",
    "\t\tmatrix = np.zeros((n,n))\n",
    "\n",
    "\t\tif criterion_weights==None:\n",
    "\t\t\tcriterion_weights = [1 for _ in data.columns]\n",
    "\n",
    "\t\tif criterion_func == None:\n",
    "\t\t\tcriterion_func = [type_1 for _ in criterion_weights]\n",
    "\n",
    "\t\tfor c,criterion in enumerate(data.columns):\n",
    "\t\t\tfor i,a in enumerate(data[criterion]):\n",
    "\t\t\t\tfor j,b in enumerate(data[criterion][i+1:],i+1):\n",
    "\t\t\t\t\tpi = criterion_func[c]\n",
    "\t\t\t\t\tw = criterion_weights[c]\n",
    "\t\t\t\t\tmatrix[i][j] += w * pi(a,b)\n",
    "\t\t\t\t\tmatrix[j][i] += w * pi(b,a)\n",
    "\t\t\n",
    "\t\treturn matrix/sum(criterion_weights)\n",
    "\t\n",
    "\tdef _flow(cpi:np.array):\n",
    "\t\tpositive_flow = np.sum(np.triu(cpi),axis=1)\n",
    "\t\tnegative_flow = np.sum(np.triu(cpi.T),axis=1)\n",
    "\n",
    "\t\treturn positive_flow,negative_flow\n",
    "\t\n",
    "\tdef __str__(self):\n",
    "\t\treturn rank_string(self.ranking,self.names)"
   ]
  },
  {
   "cell_type": "code",
   "execution_count": 103,
   "metadata": {},
   "outputs": [],
   "source": [
    "class Promethee1(Promethee):\n",
    "\tdef rank(self):\n",
    "\t\tcpi = self._cp_index(data)\n",
    "\t\tpos_flow,neg_flow = self._flow(cpi)\n",
    "\n",
    "\t\tself.pos_rank = np.argsort(-pos_flow)\n",
    "\t\tself.neg_rank = np.argsort(neg_flow)\n",
    "\n",
    "\t\t\n",
    "\n",
    "\t\treturn self.ranking"
   ]
  },
  {
   "cell_type": "code",
   "execution_count": 104,
   "metadata": {},
   "outputs": [],
   "source": [
    "class Promethee2(Promethee):\n",
    "\tdef rank(self):\n",
    "\t\tcpi = self._cp_index(data)\n",
    "\t\tpos_flow,neg_flow = self._flow(cpi)\n",
    "\n",
    "\t\tf = pos_flow-neg_flow\n",
    "\n",
    "\t\tself.ranking = np.argsort(-f)\n",
    "\n",
    "\t\treturn self.ranking"
   ]
  },
  {
   "cell_type": "code",
   "execution_count": 77,
   "metadata": {},
   "outputs": [],
   "source": [
    "estimated_weights = [7,5,3,4,4,8,5]"
   ]
  },
  {
   "cell_type": "code",
   "execution_count": 29,
   "metadata": {},
   "outputs": [
    {
     "data": {
      "image/png": "[encoded data removed]",
      "text/plain": [
       "<Figure size 432x288 with 1 Axes>"
      ]
     },
     "metadata": {
      "needs_background": "light"
     },
     "output_type": "display_data"
    }
   ],
   "source": [
    "cpi = cp_index(data.drop(columns=\"name\"))\n",
    "plt.imshow(cpi, interpolation='nearest')\n",
    "plt.show()"
   ]
  },
  {
   "cell_type": "code",
   "execution_count": 37,
   "metadata": {},
   "outputs": [],
   "source": [
    "def "
   ]
  },
  {
   "cell_type": "code",
   "execution_count": 38,
   "metadata": {},
   "outputs": [
    {
     "data": {
      "text/plain": [
       "(array([3.14285714, 1.57142857, 3.57142857, 1.71428571, 5.42857143,\n",
       "        5.28571429, 5.        , 4.57142857, 1.57142857, 1.57142857,\n",
       "        1.71428571, 0.        , 0.        , 0.42857143, 0.        ]),\n",
       " array([4.85714286, 8.57142857, 4.57142857, 6.71428571, 0.42857143,\n",
       "        0.42857143, 0.42857143, 0.42857143, 3.        , 1.57142857,\n",
       "        0.57142857, 2.57142857, 0.85714286, 0.14285714, 0.        ]))"
      ]
     },
     "execution_count": 38,
     "metadata": {},
     "output_type": "execute_result"
    }
   ],
   "source": [
    "flow(cpi)"
   ]
  },
  {
   "cell_type": "code",
   "execution_count": 89,
   "metadata": {},
   "outputs": [],
   "source": []
  },
  {
   "cell_type": "code",
   "execution_count": 90,
   "metadata": {},
   "outputs": [
    {
     "name": "stdout",
     "output_type": "stream",
     "text": [
      "0:\tHuawei P40\n",
      "1:\tLg V60\n",
      "2:\tSamsung Galaxy A55\n",
      "3:\tXiaomi Poco X6 Pro\n",
      "4:\tHuawei P30\n",
      "5:\tHuawei P20 Lite\n",
      "6:\tIphone 15\n",
      "7:\tIphone 12\n",
      "8:\tNokia 3310\n",
      "9:\tSamsung Galaxy Z Flip 5\n",
      "10:\tMotorola Razr Ultra\n",
      "11:\tSamsung Galaxy M34\n",
      "12:\tNokia 2660 Flip\n",
      "13:\tMotorola Razr 40\n",
      "14:\tMotorola Razr 8\n"
     ]
    }
   ],
   "source": [
    "show_rank(prom2_rank,data[\"name\"])"
   ]
  },
  {
   "cell_type": "code",
   "execution_count": 91,
   "metadata": {},
   "outputs": [
    {
     "name": "stdout",
     "output_type": "stream",
     "text": [
      "0:\tMotorola Razr 40\n",
      "1:\tSamsung Galaxy Z Flip 5\n",
      "2:\tMotorola Razr Ultra\n",
      "3:\tMotorola Razr 8\n",
      "4:\tHuawei P30\n",
      "5:\tHuawei P20 Lite\n",
      "6:\tIphone 15\n",
      "7:\tIphone 12\n",
      "8:\tSamsung Galaxy A55\n",
      "9:\tHuawei P40\n",
      "10:\tNokia 2660 Flip\n",
      "11:\tSamsung Galaxy M34\n",
      "12:\tXiaomi Poco X6 Pro\n",
      "13:\tNokia 3310\n",
      "14:\tLg V60\n"
     ]
    }
   ],
   "source": [
    "show_rank(prom1_pos,data[\"name\"])"
   ]
  },
  {
   "cell_type": "code",
   "execution_count": 92,
   "metadata": {},
   "outputs": [
    {
     "name": "stdout",
     "output_type": "stream",
     "text": [
      "0:\tNokia 3310\n",
      "1:\tLg V60\n",
      "2:\tSamsung Galaxy M34\n",
      "3:\tXiaomi Poco X6 Pro\n",
      "4:\tMotorola Razr 40\n",
      "5:\tSamsung Galaxy Z Flip 5\n",
      "6:\tIphone 15\n",
      "7:\tIphone 12\n",
      "8:\tSamsung Galaxy A55\n",
      "9:\tNokia 2660 Flip\n",
      "10:\tMotorola Razr Ultra\n",
      "11:\tHuawei P40\n",
      "12:\tMotorola Razr 8\n",
      "13:\tHuawei P20 Lite\n",
      "14:\tHuawei P30\n"
     ]
    }
   ],
   "source": [
    "show_rank(prom1_neg,data[\"name\"])"
   ]
  }
 ],
 "metadata": {
  "kernelspec": {
   "display_name": "Python 3.9.6 64-bit",
   "language": "python",
   "name": "python3"
  },
  "language_info": {
   "codemirror_mode": {
    "name": "ipython",
    "version": 3
   },
   "file_extension": ".py",
   "mimetype": "text/x-python",
   "name": "python",
   "nbconvert_exporter": "python",
   "pygments_lexer": "ipython3",
   "version": "3.9.6"
  },
  "orig_nbformat": 4,
  "vscode": {
   "interpreter": {
    "hash": "2adcef65025017a28c8a8e125c00b146f28fabedf291ca46c1a4a0bfed978fa1"
   }
  }
 },
 "nbformat": 4,
 "nbformat_minor": 2
}
